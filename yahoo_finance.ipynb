{
 "cells": [
  {
   "cell_type": "code",
   "execution_count": 1,
   "id": "e8cda234-cf3c-4508-8bf1-569241d48b18",
   "metadata": {},
   "outputs": [],
   "source": [
    "import numpy as np \n",
    "import pandas as pd \n",
    "import yfinance as yf\n",
    "import plotly.express as px\n",
    "from tqdm.notebook import tqdm\n",
    "import plotly.graph_objects as go\n",
    "from ipywidgets import interact"
   ]
  },
  {
   "cell_type": "code",
   "execution_count": 2,
   "id": "d27fa60b-188b-4aea-acb3-e9ae71fd7ae1",
   "metadata": {},
   "outputs": [],
   "source": [
    "from investors import * "
   ]
  },
  {
   "cell_type": "code",
   "execution_count": 3,
   "id": "5d7a3ce6-cfd4-4dae-93c6-93081049f332",
   "metadata": {
    "tags": []
   },
   "outputs": [],
   "source": [
    "tickers = ['SPY','IWV','QQQ']\n",
    "\n",
    "etf_stocks = {}\n",
    "for ticker in tickers: \n",
    "    msft = yf.Ticker(ticker)\n",
    "    info = msft.info\n",
    "    # get historical market data\n",
    "    etf_stocks[ticker] = msft.history(period=\"34y\")\n",
    "    etf_stocks[ticker]['date'] = etf_stocks[ticker].index\n",
    "    etf_stocks[ticker]['YM'] = etf_stocks[ticker]['date'].apply(lambda v: v.strftime(\"%Y-%m\"))\n",
    "    etf_stocks[ticker]['Y'] = etf_stocks[ticker]['date'].apply(lambda v: v.strftime(\"%Y\"))"
   ]
  },
  {
   "cell_type": "code",
   "execution_count": 4,
   "id": "2f79c407-acc0-456d-adc2-4e3e7b0e6e47",
   "metadata": {},
   "outputs": [
    {
     "name": "stdout",
     "output_type": "stream",
     "text": [
      "SPY 1994-01 2022-12\n",
      "IWV 2001-01 2022-12\n",
      "QQQ 2000-01 2022-12\n"
     ]
    }
   ],
   "source": [
    "ticker_start_year = {'SPY':'1994',\n",
    "                     'IWV':'2001',\n",
    "                     'QQQ':'2000'}\n",
    "\n",
    "symbol_to_int = {'SPY': 1994,\n",
    "                 'IWV': 2001,\n",
    "                 'QQQ': 2000}\n",
    "\n",
    "\n",
    "for ticker,year in ticker_start_year.items():\n",
    "    df = etf_stocks[ticker]\n",
    "    df = df[df['Y'] >=year]\n",
    "    etf_stocks[ticker] = etf_stocks[ticker][(etf_stocks[ticker]['Y']>=year) &\n",
    "                                            (etf_stocks[ticker]['Y']<'2023')]\n",
    "    etf_stocks[ticker]['symbol'] = symbol_to_int[ticker]\n",
    "    print(ticker,etf_stocks[ticker]['YM'].min(),etf_stocks[ticker]['YM'].max())\n",
    "    "
   ]
  },
  {
   "cell_type": "code",
   "execution_count": 8,
   "id": "a93f5e39-57dd-44c6-bdf4-6f76dd0225da",
   "metadata": {},
   "outputs": [
    {
     "data": {
      "application/vnd.jupyter.widget-view+json": {
       "model_id": "1294fce995c143a4ac11bc9fe864bea1",
       "version_major": 2,
       "version_minor": 0
      },
      "text/plain": [
       "  0%|          | 0/27 [00:00<?, ?it/s]"
      ]
     },
     "metadata": {},
     "output_type": "display_data"
    }
   ],
   "source": [
    "initial_deposit = 0\n",
    "shares_to_buy = 5\n",
    "amount_to_deposit_monthly = 1_000\n",
    "fixed_amount = amount_to_deposit_monthly\n",
    "ticker = 'SPY'\n",
    "verbose = False\n",
    "\n",
    "lucky_investor = fixedAmountLuckyInvestor('lucky',initial_deposit,verbose=True)\n",
    "unlucky_investor = fixedAmountUnluckyInvestor('unlucky',initial_deposit,verbose=True)\n",
    "som_investor = fixedAmountSomInvestor('som',initial_deposit,verbose=True)\n",
    "random_investor = fixedAmountRandomInvestor('random',initial_deposit,verbose=True)\n",
    "investors = [lucky_investor,unlucky_investor,som_investor,random_investor]\n",
    "\n",
    "dfs = etf_stocks[ticker].rename(columns={'Close':'price'})\n",
    "dfs = dfs[dfs['Y'] <'2021']\n",
    "\n",
    "dfs = dfs.sort_values('date').reset_index(drop=True)\n",
    "dfs['YM'] = dfs['date'].apply(lambda v: v.strftime('%Y'))\n",
    "yms = np.sort(dfs['YM'].unique())\n",
    "pbar = tqdm(yms)\n",
    "for ym in pbar:\n",
    "    pbar.set_description(\"Processing %s\" % ym)\n",
    "    dfym = dfs[dfs['YM'] == ym]\n",
    "    \n",
    "    for investor in investors:\n",
    "        investor.depositMoney(amount_to_deposit_monthly)\n",
    "        \n",
    "    dfym_symbol = dfym#[dfym['symbol'] == symbol]\n",
    "    if dfym_symbol.shape[0] == 0:\n",
    "        continue\n",
    "    for investor in investors:\n",
    "        investor.buyLogic(dfym_symbol,shares=shares_to_buy,stock_amount=fixed_amount)\n",
    "        \n",
    "    symbols_and_prices = dfym.groupby(['symbol'],as_index=False)['date'].max()\n",
    "    symbols_and_prices = symbols_and_prices.merge(dfym,on=['symbol','date'])\n",
    "    stocks = {}\n",
    "    for i,(symbol,price,date) in symbols_and_prices[['symbol','price','date']].iterrows():\n",
    "        stocks[int(symbol)] = price\n",
    "        stocks['date'] = date\n",
    "        \n",
    "    for investor in investors:\n",
    "        investor.updatePortfolio(stocks)\n",
    "        investor.calculateProfit(stocks)\n",
    "\n",
    "        \n",
    "        \n",
    "if verbose: \n",
    "    fig = go.Figure()\n",
    "\n",
    "    for investor in investors:\n",
    "        fig.add_trace(go.Scatter(x=yms, y=investor.portfolio,\n",
    "                                 name=investor.name))\n",
    "\n",
    "    fig.update_layout(hovermode='x unified')\n",
    "    fig.show()   \n",
    "\n",
    "    fig = go.Figure()\n",
    "\n",
    "    for investor in investors:\n",
    "        fig.add_trace(go.Scatter(x=yms, y=investor.transaction_history['price'],\n",
    "                                 name=investor.name))\n",
    "    fig.update_layout(hovermode='x unified')\n",
    "    fig.show()\n",
    "\n",
    "    for investor in investors:\n",
    "        print(investor)\n",
    "        print(\"*\"*60)"
   ]
  },
  {
   "cell_type": "code",
   "execution_count": 13,
   "id": "0107c4f3-89b3-4265-b3d7-38769beffc7d",
   "metadata": {},
   "outputs": [
    {
     "data": {
      "text/html": [
       "<div>\n",
       "<style scoped>\n",
       "    .dataframe tbody tr th:only-of-type {\n",
       "        vertical-align: middle;\n",
       "    }\n",
       "\n",
       "    .dataframe tbody tr th {\n",
       "        vertical-align: top;\n",
       "    }\n",
       "\n",
       "    .dataframe thead th {\n",
       "        text-align: right;\n",
       "    }\n",
       "</style>\n",
       "<table border=\"1\" class=\"dataframe\">\n",
       "  <thead>\n",
       "    <tr style=\"text-align: right;\">\n",
       "      <th></th>\n",
       "      <th>name</th>\n",
       "      <th>as_of_date</th>\n",
       "      <th>symbol</th>\n",
       "      <th>avg_cost</th>\n",
       "      <th>current_price</th>\n",
       "      <th>profit/share</th>\n",
       "      <th>profit</th>\n",
       "      <th>pct</th>\n",
       "      <th>shares</th>\n",
       "      <th>total_value</th>\n",
       "      <th>total_cost</th>\n",
       "    </tr>\n",
       "  </thead>\n",
       "  <tbody>\n",
       "    <tr>\n",
       "      <th>0</th>\n",
       "      <td>random</td>\n",
       "      <td>1994-12-30 00:00:00-05:00</td>\n",
       "      <td>1994</td>\n",
       "      <td>27.731575</td>\n",
       "      <td>27.418800</td>\n",
       "      <td>-0.312775</td>\n",
       "      <td>-11.259888</td>\n",
       "      <td>-0.01</td>\n",
       "      <td>36.0</td>\n",
       "      <td>987.076813</td>\n",
       "      <td>998.336700</td>\n",
       "    </tr>\n",
       "    <tr>\n",
       "      <th>1</th>\n",
       "      <td>random</td>\n",
       "      <td>1995-12-29 00:00:00-05:00</td>\n",
       "      <td>1994</td>\n",
       "      <td>31.440429</td>\n",
       "      <td>37.851357</td>\n",
       "      <td>6.410928</td>\n",
       "      <td>403.888458</td>\n",
       "      <td>0.20</td>\n",
       "      <td>63.0</td>\n",
       "      <td>2384.635460</td>\n",
       "      <td>1980.747002</td>\n",
       "    </tr>\n",
       "    <tr>\n",
       "      <th>2</th>\n",
       "      <td>random</td>\n",
       "      <td>1996-12-31 00:00:00-05:00</td>\n",
       "      <td>1994</td>\n",
       "      <td>33.391967</td>\n",
       "      <td>46.366951</td>\n",
       "      <td>12.974984</td>\n",
       "      <td>1154.773613</td>\n",
       "      <td>0.39</td>\n",
       "      <td>89.0</td>\n",
       "      <td>4126.658638</td>\n",
       "      <td>2971.885025</td>\n",
       "    </tr>\n",
       "    <tr>\n",
       "      <th>3</th>\n",
       "      <td>random</td>\n",
       "      <td>1997-12-31 00:00:00-05:00</td>\n",
       "      <td>1994</td>\n",
       "      <td>36.617202</td>\n",
       "      <td>61.888382</td>\n",
       "      <td>25.271180</td>\n",
       "      <td>2729.287430</td>\n",
       "      <td>0.69</td>\n",
       "      <td>108.0</td>\n",
       "      <td>6683.945251</td>\n",
       "      <td>3954.657822</td>\n",
       "    </tr>\n",
       "    <tr>\n",
       "      <th>4</th>\n",
       "      <td>random</td>\n",
       "      <td>1998-12-31 00:00:00-05:00</td>\n",
       "      <td>1994</td>\n",
       "      <td>40.420715</td>\n",
       "      <td>79.645660</td>\n",
       "      <td>39.224946</td>\n",
       "      <td>4746.218437</td>\n",
       "      <td>0.97</td>\n",
       "      <td>121.0</td>\n",
       "      <td>9637.124908</td>\n",
       "      <td>4890.906471</td>\n",
       "    </tr>\n",
       "    <tr>\n",
       "      <th>5</th>\n",
       "      <td>random</td>\n",
       "      <td>1999-12-31 00:00:00-05:00</td>\n",
       "      <td>1994</td>\n",
       "      <td>43.901530</td>\n",
       "      <td>95.884911</td>\n",
       "      <td>51.983380</td>\n",
       "      <td>6913.789566</td>\n",
       "      <td>1.18</td>\n",
       "      <td>133.0</td>\n",
       "      <td>12752.693108</td>\n",
       "      <td>5838.903542</td>\n",
       "    </tr>\n",
       "    <tr>\n",
       "      <th>6</th>\n",
       "      <td>random</td>\n",
       "      <td>2000-12-29 00:00:00-05:00</td>\n",
       "      <td>1994</td>\n",
       "      <td>47.488227</td>\n",
       "      <td>86.544228</td>\n",
       "      <td>39.056001</td>\n",
       "      <td>5585.008087</td>\n",
       "      <td>0.82</td>\n",
       "      <td>143.0</td>\n",
       "      <td>12375.824547</td>\n",
       "      <td>6790.816460</td>\n",
       "    </tr>\n",
       "    <tr>\n",
       "      <th>7</th>\n",
       "      <td>random</td>\n",
       "      <td>2001-12-31 00:00:00-05:00</td>\n",
       "      <td>1994</td>\n",
       "      <td>49.798875</td>\n",
       "      <td>76.367950</td>\n",
       "      <td>26.569076</td>\n",
       "      <td>4118.206764</td>\n",
       "      <td>0.53</td>\n",
       "      <td>155.0</td>\n",
       "      <td>11837.032318</td>\n",
       "      <td>7718.825554</td>\n",
       "    </tr>\n",
       "    <tr>\n",
       "      <th>8</th>\n",
       "      <td>random</td>\n",
       "      <td>2002-12-31 00:00:00-05:00</td>\n",
       "      <td>1994</td>\n",
       "      <td>51.621312</td>\n",
       "      <td>59.884209</td>\n",
       "      <td>8.262896</td>\n",
       "      <td>1388.166565</td>\n",
       "      <td>0.16</td>\n",
       "      <td>168.0</td>\n",
       "      <td>10060.547058</td>\n",
       "      <td>8672.380493</td>\n",
       "    </tr>\n",
       "    <tr>\n",
       "      <th>9</th>\n",
       "      <td>random</td>\n",
       "      <td>2003-12-31 00:00:00-05:00</td>\n",
       "      <td>1994</td>\n",
       "      <td>52.848449</td>\n",
       "      <td>76.760521</td>\n",
       "      <td>23.912072</td>\n",
       "      <td>4351.997177</td>\n",
       "      <td>0.45</td>\n",
       "      <td>182.0</td>\n",
       "      <td>13970.414810</td>\n",
       "      <td>9618.417633</td>\n",
       "    </tr>\n",
       "    <tr>\n",
       "      <th>10</th>\n",
       "      <td>random</td>\n",
       "      <td>2004-12-31 00:00:00-05:00</td>\n",
       "      <td>1994</td>\n",
       "      <td>54.386507</td>\n",
       "      <td>84.972267</td>\n",
       "      <td>30.585760</td>\n",
       "      <td>5933.637436</td>\n",
       "      <td>0.56</td>\n",
       "      <td>194.0</td>\n",
       "      <td>16484.619827</td>\n",
       "      <td>10550.982391</td>\n",
       "    </tr>\n",
       "    <tr>\n",
       "      <th>11</th>\n",
       "      <td>random</td>\n",
       "      <td>2005-12-30 00:00:00-05:00</td>\n",
       "      <td>1994</td>\n",
       "      <td>56.301679</td>\n",
       "      <td>89.074989</td>\n",
       "      <td>32.773310</td>\n",
       "      <td>6718.528526</td>\n",
       "      <td>0.58</td>\n",
       "      <td>205.0</td>\n",
       "      <td>18260.372810</td>\n",
       "      <td>11541.844284</td>\n",
       "    </tr>\n",
       "    <tr>\n",
       "      <th>12</th>\n",
       "      <td>random</td>\n",
       "      <td>2006-12-29 00:00:00-05:00</td>\n",
       "      <td>1994</td>\n",
       "      <td>58.092742</td>\n",
       "      <td>103.189125</td>\n",
       "      <td>45.096383</td>\n",
       "      <td>9695.722282</td>\n",
       "      <td>0.78</td>\n",
       "      <td>215.0</td>\n",
       "      <td>22185.661888</td>\n",
       "      <td>12489.939606</td>\n",
       "    </tr>\n",
       "    <tr>\n",
       "      <th>13</th>\n",
       "      <td>random</td>\n",
       "      <td>2007-12-31 00:00:00-05:00</td>\n",
       "      <td>1994</td>\n",
       "      <td>60.087513</td>\n",
       "      <td>108.499413</td>\n",
       "      <td>48.411900</td>\n",
       "      <td>10844.265594</td>\n",
       "      <td>0.81</td>\n",
       "      <td>224.0</td>\n",
       "      <td>24303.868408</td>\n",
       "      <td>13459.602814</td>\n",
       "    </tr>\n",
       "    <tr>\n",
       "      <th>14</th>\n",
       "      <td>random</td>\n",
       "      <td>2008-12-31 00:00:00-05:00</td>\n",
       "      <td>1994</td>\n",
       "      <td>61.672258</td>\n",
       "      <td>68.577095</td>\n",
       "      <td>6.904837</td>\n",
       "      <td>1615.731949</td>\n",
       "      <td>0.11</td>\n",
       "      <td>234.0</td>\n",
       "      <td>16047.040237</td>\n",
       "      <td>14431.308289</td>\n",
       "    </tr>\n",
       "    <tr>\n",
       "      <th>15</th>\n",
       "      <td>random</td>\n",
       "      <td>2009-12-31 00:00:00-05:00</td>\n",
       "      <td>1994</td>\n",
       "      <td>61.790643</td>\n",
       "      <td>86.648369</td>\n",
       "      <td>24.857725</td>\n",
       "      <td>6189.573612</td>\n",
       "      <td>0.40</td>\n",
       "      <td>249.0</td>\n",
       "      <td>21575.443840</td>\n",
       "      <td>15385.870228</td>\n",
       "    </tr>\n",
       "    <tr>\n",
       "      <th>16</th>\n",
       "      <td>random</td>\n",
       "      <td>2010-12-31 00:00:00-05:00</td>\n",
       "      <td>1994</td>\n",
       "      <td>63.141703</td>\n",
       "      <td>99.694275</td>\n",
       "      <td>36.552571</td>\n",
       "      <td>9467.116009</td>\n",
       "      <td>0.58</td>\n",
       "      <td>259.0</td>\n",
       "      <td>25820.817200</td>\n",
       "      <td>16353.701191</td>\n",
       "    </tr>\n",
       "    <tr>\n",
       "      <th>17</th>\n",
       "      <td>random</td>\n",
       "      <td>2011-12-30 00:00:00-05:00</td>\n",
       "      <td>1994</td>\n",
       "      <td>64.495703</td>\n",
       "      <td>101.583443</td>\n",
       "      <td>37.087739</td>\n",
       "      <td>9939.514111</td>\n",
       "      <td>0.58</td>\n",
       "      <td>268.0</td>\n",
       "      <td>27224.362640</td>\n",
       "      <td>17284.848530</td>\n",
       "    </tr>\n",
       "    <tr>\n",
       "      <th>18</th>\n",
       "      <td>random</td>\n",
       "      <td>2012-12-31 00:00:00-05:00</td>\n",
       "      <td>1994</td>\n",
       "      <td>65.933394</td>\n",
       "      <td>117.827011</td>\n",
       "      <td>51.893617</td>\n",
       "      <td>14322.638226</td>\n",
       "      <td>0.79</td>\n",
       "      <td>276.0</td>\n",
       "      <td>32520.255066</td>\n",
       "      <td>18197.616840</td>\n",
       "    </tr>\n",
       "    <tr>\n",
       "      <th>19</th>\n",
       "      <td>random</td>\n",
       "      <td>2013-12-31 00:00:00-05:00</td>\n",
       "      <td>1994</td>\n",
       "      <td>67.695221</td>\n",
       "      <td>155.894257</td>\n",
       "      <td>88.199035</td>\n",
       "      <td>24872.127972</td>\n",
       "      <td>1.30</td>\n",
       "      <td>282.0</td>\n",
       "      <td>43962.180359</td>\n",
       "      <td>19090.052387</td>\n",
       "    </tr>\n",
       "    <tr>\n",
       "      <th>20</th>\n",
       "      <td>random</td>\n",
       "      <td>2014-12-31 00:00:00-05:00</td>\n",
       "      <td>1994</td>\n",
       "      <td>69.630590</td>\n",
       "      <td>176.883530</td>\n",
       "      <td>107.252939</td>\n",
       "      <td>30781.593548</td>\n",
       "      <td>1.54</td>\n",
       "      <td>287.0</td>\n",
       "      <td>50765.573013</td>\n",
       "      <td>19983.979465</td>\n",
       "    </tr>\n",
       "    <tr>\n",
       "      <th>21</th>\n",
       "      <td>random</td>\n",
       "      <td>2015-12-31 00:00:00-05:00</td>\n",
       "      <td>1994</td>\n",
       "      <td>71.514530</td>\n",
       "      <td>179.066788</td>\n",
       "      <td>107.552258</td>\n",
       "      <td>31405.259228</td>\n",
       "      <td>1.50</td>\n",
       "      <td>292.0</td>\n",
       "      <td>52287.502014</td>\n",
       "      <td>20882.242786</td>\n",
       "    </tr>\n",
       "    <tr>\n",
       "      <th>22</th>\n",
       "      <td>random</td>\n",
       "      <td>2016-12-30 00:00:00-05:00</td>\n",
       "      <td>1994</td>\n",
       "      <td>73.534188</td>\n",
       "      <td>200.551071</td>\n",
       "      <td>127.016883</td>\n",
       "      <td>37724.014385</td>\n",
       "      <td>1.73</td>\n",
       "      <td>297.0</td>\n",
       "      <td>59563.668137</td>\n",
       "      <td>21839.653751</td>\n",
       "    </tr>\n",
       "    <tr>\n",
       "      <th>23</th>\n",
       "      <td>random</td>\n",
       "      <td>2017-12-29 00:00:00-05:00</td>\n",
       "      <td>1994</td>\n",
       "      <td>75.375136</td>\n",
       "      <td>244.081467</td>\n",
       "      <td>168.706331</td>\n",
       "      <td>50780.605633</td>\n",
       "      <td>2.24</td>\n",
       "      <td>301.0</td>\n",
       "      <td>73468.521469</td>\n",
       "      <td>22687.915836</td>\n",
       "    </tr>\n",
       "    <tr>\n",
       "      <th>24</th>\n",
       "      <td>random</td>\n",
       "      <td>2018-12-31 00:00:00-05:00</td>\n",
       "      <td>1994</td>\n",
       "      <td>77.131255</td>\n",
       "      <td>232.929413</td>\n",
       "      <td>155.798158</td>\n",
       "      <td>47362.640011</td>\n",
       "      <td>2.02</td>\n",
       "      <td>304.0</td>\n",
       "      <td>70810.541504</td>\n",
       "      <td>23447.901493</td>\n",
       "    </tr>\n",
       "    <tr>\n",
       "      <th>25</th>\n",
       "      <td>random</td>\n",
       "      <td>2019-12-31 00:00:00-05:00</td>\n",
       "      <td>1994</td>\n",
       "      <td>79.065782</td>\n",
       "      <td>305.658936</td>\n",
       "      <td>226.593153</td>\n",
       "      <td>69564.098019</td>\n",
       "      <td>2.87</td>\n",
       "      <td>307.0</td>\n",
       "      <td>93837.293213</td>\n",
       "      <td>24273.195194</td>\n",
       "    </tr>\n",
       "    <tr>\n",
       "      <th>26</th>\n",
       "      <td>random</td>\n",
       "      <td>2020-12-31 00:00:00-05:00</td>\n",
       "      <td>1994</td>\n",
       "      <td>81.412749</td>\n",
       "      <td>361.691132</td>\n",
       "      <td>280.278382</td>\n",
       "      <td>86886.298519</td>\n",
       "      <td>3.44</td>\n",
       "      <td>310.0</td>\n",
       "      <td>112124.250793</td>\n",
       "      <td>25237.952274</td>\n",
       "    </tr>\n",
       "  </tbody>\n",
       "</table>\n",
       "</div>"
      ],
      "text/plain": [
       "      name                as_of_date symbol   avg_cost  current_price  \\\n",
       "0   random 1994-12-30 00:00:00-05:00   1994  27.731575      27.418800   \n",
       "1   random 1995-12-29 00:00:00-05:00   1994  31.440429      37.851357   \n",
       "2   random 1996-12-31 00:00:00-05:00   1994  33.391967      46.366951   \n",
       "3   random 1997-12-31 00:00:00-05:00   1994  36.617202      61.888382   \n",
       "4   random 1998-12-31 00:00:00-05:00   1994  40.420715      79.645660   \n",
       "5   random 1999-12-31 00:00:00-05:00   1994  43.901530      95.884911   \n",
       "6   random 2000-12-29 00:00:00-05:00   1994  47.488227      86.544228   \n",
       "7   random 2001-12-31 00:00:00-05:00   1994  49.798875      76.367950   \n",
       "8   random 2002-12-31 00:00:00-05:00   1994  51.621312      59.884209   \n",
       "9   random 2003-12-31 00:00:00-05:00   1994  52.848449      76.760521   \n",
       "10  random 2004-12-31 00:00:00-05:00   1994  54.386507      84.972267   \n",
       "11  random 2005-12-30 00:00:00-05:00   1994  56.301679      89.074989   \n",
       "12  random 2006-12-29 00:00:00-05:00   1994  58.092742     103.189125   \n",
       "13  random 2007-12-31 00:00:00-05:00   1994  60.087513     108.499413   \n",
       "14  random 2008-12-31 00:00:00-05:00   1994  61.672258      68.577095   \n",
       "15  random 2009-12-31 00:00:00-05:00   1994  61.790643      86.648369   \n",
       "16  random 2010-12-31 00:00:00-05:00   1994  63.141703      99.694275   \n",
       "17  random 2011-12-30 00:00:00-05:00   1994  64.495703     101.583443   \n",
       "18  random 2012-12-31 00:00:00-05:00   1994  65.933394     117.827011   \n",
       "19  random 2013-12-31 00:00:00-05:00   1994  67.695221     155.894257   \n",
       "20  random 2014-12-31 00:00:00-05:00   1994  69.630590     176.883530   \n",
       "21  random 2015-12-31 00:00:00-05:00   1994  71.514530     179.066788   \n",
       "22  random 2016-12-30 00:00:00-05:00   1994  73.534188     200.551071   \n",
       "23  random 2017-12-29 00:00:00-05:00   1994  75.375136     244.081467   \n",
       "24  random 2018-12-31 00:00:00-05:00   1994  77.131255     232.929413   \n",
       "25  random 2019-12-31 00:00:00-05:00   1994  79.065782     305.658936   \n",
       "26  random 2020-12-31 00:00:00-05:00   1994  81.412749     361.691132   \n",
       "\n",
       "    profit/share        profit   pct  shares    total_value    total_cost  \n",
       "0      -0.312775    -11.259888 -0.01    36.0     987.076813    998.336700  \n",
       "1       6.410928    403.888458  0.20    63.0    2384.635460   1980.747002  \n",
       "2      12.974984   1154.773613  0.39    89.0    4126.658638   2971.885025  \n",
       "3      25.271180   2729.287430  0.69   108.0    6683.945251   3954.657822  \n",
       "4      39.224946   4746.218437  0.97   121.0    9637.124908   4890.906471  \n",
       "5      51.983380   6913.789566  1.18   133.0   12752.693108   5838.903542  \n",
       "6      39.056001   5585.008087  0.82   143.0   12375.824547   6790.816460  \n",
       "7      26.569076   4118.206764  0.53   155.0   11837.032318   7718.825554  \n",
       "8       8.262896   1388.166565  0.16   168.0   10060.547058   8672.380493  \n",
       "9      23.912072   4351.997177  0.45   182.0   13970.414810   9618.417633  \n",
       "10     30.585760   5933.637436  0.56   194.0   16484.619827  10550.982391  \n",
       "11     32.773310   6718.528526  0.58   205.0   18260.372810  11541.844284  \n",
       "12     45.096383   9695.722282  0.78   215.0   22185.661888  12489.939606  \n",
       "13     48.411900  10844.265594  0.81   224.0   24303.868408  13459.602814  \n",
       "14      6.904837   1615.731949  0.11   234.0   16047.040237  14431.308289  \n",
       "15     24.857725   6189.573612  0.40   249.0   21575.443840  15385.870228  \n",
       "16     36.552571   9467.116009  0.58   259.0   25820.817200  16353.701191  \n",
       "17     37.087739   9939.514111  0.58   268.0   27224.362640  17284.848530  \n",
       "18     51.893617  14322.638226  0.79   276.0   32520.255066  18197.616840  \n",
       "19     88.199035  24872.127972  1.30   282.0   43962.180359  19090.052387  \n",
       "20    107.252939  30781.593548  1.54   287.0   50765.573013  19983.979465  \n",
       "21    107.552258  31405.259228  1.50   292.0   52287.502014  20882.242786  \n",
       "22    127.016883  37724.014385  1.73   297.0   59563.668137  21839.653751  \n",
       "23    168.706331  50780.605633  2.24   301.0   73468.521469  22687.915836  \n",
       "24    155.798158  47362.640011  2.02   304.0   70810.541504  23447.901493  \n",
       "25    226.593153  69564.098019  2.87   307.0   93837.293213  24273.195194  \n",
       "26    280.278382  86886.298519  3.44   310.0  112124.250793  25237.952274  "
      ]
     },
     "execution_count": 13,
     "metadata": {},
     "output_type": "execute_result"
    }
   ],
   "source": [
    "investor.stock_profit"
   ]
  },
  {
   "cell_type": "code",
   "execution_count": 20,
   "id": "c1e04b3f-be4d-430b-8763-57e8a7422586",
   "metadata": {},
   "outputs": [],
   "source": [
    "investor.stock_profit['Y'] = investor.stock_profit['as_of_date'].apply(lambda v: v.strftime('%Y'))"
   ]
  },
  {
   "cell_type": "code",
   "execution_count": 26,
   "id": "b5ecac3c-518f-45a4-838a-58fae53480ad",
   "metadata": {},
   "outputs": [
    {
     "ename": "AttributeError",
     "evalue": "'Line' object has no attribute 'show'",
     "output_type": "error",
     "traceback": [
      "\u001b[0;31m---------------------------------------------------------------------------\u001b[0m",
      "\u001b[0;31mAttributeError\u001b[0m                            Traceback (most recent call last)",
      "\u001b[0;32m/var/folders/lj/kvh7tvn97xd47kqj0fxr3tyh0000gn/T/ipykernel_4933/89474557.py\u001b[0m in \u001b[0;36m<module>\u001b[0;34m\u001b[0m\n\u001b[0;32m----> 1\u001b[0;31m \u001b[0mfig\u001b[0m\u001b[0;34m.\u001b[0m\u001b[0mshow\u001b[0m\u001b[0;34m(\u001b[0m\u001b[0;34m)\u001b[0m\u001b[0;34m\u001b[0m\u001b[0;34m\u001b[0m\u001b[0m\n\u001b[0m",
      "\u001b[0;31mAttributeError\u001b[0m: 'Line' object has no attribute 'show'"
     ]
    }
   ],
   "source": []
  },
  {
   "cell_type": "code",
   "execution_count": 29,
   "id": "ff7cc0d1-6e18-4fde-8526-28871a02a861",
   "metadata": {},
   "outputs": [
    {
     "name": "stderr",
     "output_type": "stream",
     "text": [
      "/Users/alialnasser/opt/anaconda3/lib/python3.9/site-packages/plotly/graph_objs/_deprecations.py:378: DeprecationWarning:\n",
      "\n",
      "plotly.graph_objs.Line is deprecated.\n",
      "Please replace it with one of the following more specific types\n",
      "  - plotly.graph_objs.scatter.Line\n",
      "  - plotly.graph_objs.layout.shape.Line\n",
      "  - etc.\n",
      "\n",
      "\n"
     ]
    },
    {
     "data": {
      "application/vnd.plotly.v1+json": {
       "config": {
        "plotlyServerURL": "https://plot.ly"
       },
       "data": [
        {
         "type": "scatter",
         "x": [
          "1994",
          "1995",
          "1996",
          "1997",
          "1998",
          "1999",
          "2000",
          "2001",
          "2002",
          "2003",
          "2004",
          "2005",
          "2006",
          "2007",
          "2008",
          "2009",
          "2010",
          "2011",
          "2012",
          "2013",
          "2014",
          "2015",
          "2016",
          "2017",
          "2018",
          "2019",
          "2020"
         ],
         "y": [
          -1.12786474646841,
          9.72270234784105,
          11.56351280713408,
          14.019988532167726,
          14.527986632229851,
          13.905606621634536,
          8.952204387332529,
          5.490038522927865,
          1.6634416859317547,
          3.8031582084834703,
          4.139841537446309,
          3.8969668688695336,
          4.5185159871279135,
          4.311371197418978,
          0.7100046020661388,
          2.135649403907691,
          2.7230434170491424,
          2.555905762149324,
          3.102808643259203,
          4.2590120265519005,
          4.539483121619825,
          4.260337192360342,
          4.458799374687072,
          5.01776686576858,
          4.520085756550252,
          5.338342797660101,
          5.678555443197042
         ]
        }
       ],
       "layout": {
        "autosize": true,
        "template": {
         "data": {
          "bar": [
           {
            "error_x": {
             "color": "#2a3f5f"
            },
            "error_y": {
             "color": "#2a3f5f"
            },
            "marker": {
             "line": {
              "color": "#E5ECF6",
              "width": 0.5
             },
             "pattern": {
              "fillmode": "overlay",
              "size": 10,
              "solidity": 0.2
             }
            },
            "type": "bar"
           }
          ],
          "barpolar": [
           {
            "marker": {
             "line": {
              "color": "#E5ECF6",
              "width": 0.5
             },
             "pattern": {
              "fillmode": "overlay",
              "size": 10,
              "solidity": 0.2
             }
            },
            "type": "barpolar"
           }
          ],
          "carpet": [
           {
            "aaxis": {
             "endlinecolor": "#2a3f5f",
             "gridcolor": "white",
             "linecolor": "white",
             "minorgridcolor": "white",
             "startlinecolor": "#2a3f5f"
            },
            "baxis": {
             "endlinecolor": "#2a3f5f",
             "gridcolor": "white",
             "linecolor": "white",
             "minorgridcolor": "white",
             "startlinecolor": "#2a3f5f"
            },
            "type": "carpet"
           }
          ],
          "choropleth": [
           {
            "colorbar": {
             "outlinewidth": 0,
             "ticks": ""
            },
            "type": "choropleth"
           }
          ],
          "contour": [
           {
            "colorbar": {
             "outlinewidth": 0,
             "ticks": ""
            },
            "colorscale": [
             [
              0,
              "#0d0887"
             ],
             [
              0.1111111111111111,
              "#46039f"
             ],
             [
              0.2222222222222222,
              "#7201a8"
             ],
             [
              0.3333333333333333,
              "#9c179e"
             ],
             [
              0.4444444444444444,
              "#bd3786"
             ],
             [
              0.5555555555555556,
              "#d8576b"
             ],
             [
              0.6666666666666666,
              "#ed7953"
             ],
             [
              0.7777777777777778,
              "#fb9f3a"
             ],
             [
              0.8888888888888888,
              "#fdca26"
             ],
             [
              1,
              "#f0f921"
             ]
            ],
            "type": "contour"
           }
          ],
          "contourcarpet": [
           {
            "colorbar": {
             "outlinewidth": 0,
             "ticks": ""
            },
            "type": "contourcarpet"
           }
          ],
          "heatmap": [
           {
            "colorbar": {
             "outlinewidth": 0,
             "ticks": ""
            },
            "colorscale": [
             [
              0,
              "#0d0887"
             ],
             [
              0.1111111111111111,
              "#46039f"
             ],
             [
              0.2222222222222222,
              "#7201a8"
             ],
             [
              0.3333333333333333,
              "#9c179e"
             ],
             [
              0.4444444444444444,
              "#bd3786"
             ],
             [
              0.5555555555555556,
              "#d8576b"
             ],
             [
              0.6666666666666666,
              "#ed7953"
             ],
             [
              0.7777777777777778,
              "#fb9f3a"
             ],
             [
              0.8888888888888888,
              "#fdca26"
             ],
             [
              1,
              "#f0f921"
             ]
            ],
            "type": "heatmap"
           }
          ],
          "heatmapgl": [
           {
            "colorbar": {
             "outlinewidth": 0,
             "ticks": ""
            },
            "colorscale": [
             [
              0,
              "#0d0887"
             ],
             [
              0.1111111111111111,
              "#46039f"
             ],
             [
              0.2222222222222222,
              "#7201a8"
             ],
             [
              0.3333333333333333,
              "#9c179e"
             ],
             [
              0.4444444444444444,
              "#bd3786"
             ],
             [
              0.5555555555555556,
              "#d8576b"
             ],
             [
              0.6666666666666666,
              "#ed7953"
             ],
             [
              0.7777777777777778,
              "#fb9f3a"
             ],
             [
              0.8888888888888888,
              "#fdca26"
             ],
             [
              1,
              "#f0f921"
             ]
            ],
            "type": "heatmapgl"
           }
          ],
          "histogram": [
           {
            "marker": {
             "pattern": {
              "fillmode": "overlay",
              "size": 10,
              "solidity": 0.2
             }
            },
            "type": "histogram"
           }
          ],
          "histogram2d": [
           {
            "colorbar": {
             "outlinewidth": 0,
             "ticks": ""
            },
            "colorscale": [
             [
              0,
              "#0d0887"
             ],
             [
              0.1111111111111111,
              "#46039f"
             ],
             [
              0.2222222222222222,
              "#7201a8"
             ],
             [
              0.3333333333333333,
              "#9c179e"
             ],
             [
              0.4444444444444444,
              "#bd3786"
             ],
             [
              0.5555555555555556,
              "#d8576b"
             ],
             [
              0.6666666666666666,
              "#ed7953"
             ],
             [
              0.7777777777777778,
              "#fb9f3a"
             ],
             [
              0.8888888888888888,
              "#fdca26"
             ],
             [
              1,
              "#f0f921"
             ]
            ],
            "type": "histogram2d"
           }
          ],
          "histogram2dcontour": [
           {
            "colorbar": {
             "outlinewidth": 0,
             "ticks": ""
            },
            "colorscale": [
             [
              0,
              "#0d0887"
             ],
             [
              0.1111111111111111,
              "#46039f"
             ],
             [
              0.2222222222222222,
              "#7201a8"
             ],
             [
              0.3333333333333333,
              "#9c179e"
             ],
             [
              0.4444444444444444,
              "#bd3786"
             ],
             [
              0.5555555555555556,
              "#d8576b"
             ],
             [
              0.6666666666666666,
              "#ed7953"
             ],
             [
              0.7777777777777778,
              "#fb9f3a"
             ],
             [
              0.8888888888888888,
              "#fdca26"
             ],
             [
              1,
              "#f0f921"
             ]
            ],
            "type": "histogram2dcontour"
           }
          ],
          "mesh3d": [
           {
            "colorbar": {
             "outlinewidth": 0,
             "ticks": ""
            },
            "type": "mesh3d"
           }
          ],
          "parcoords": [
           {
            "line": {
             "colorbar": {
              "outlinewidth": 0,
              "ticks": ""
             }
            },
            "type": "parcoords"
           }
          ],
          "pie": [
           {
            "automargin": true,
            "type": "pie"
           }
          ],
          "scatter": [
           {
            "fillpattern": {
             "fillmode": "overlay",
             "size": 10,
             "solidity": 0.2
            },
            "type": "scatter"
           }
          ],
          "scatter3d": [
           {
            "line": {
             "colorbar": {
              "outlinewidth": 0,
              "ticks": ""
             }
            },
            "marker": {
             "colorbar": {
              "outlinewidth": 0,
              "ticks": ""
             }
            },
            "type": "scatter3d"
           }
          ],
          "scattercarpet": [
           {
            "marker": {
             "colorbar": {
              "outlinewidth": 0,
              "ticks": ""
             }
            },
            "type": "scattercarpet"
           }
          ],
          "scattergeo": [
           {
            "marker": {
             "colorbar": {
              "outlinewidth": 0,
              "ticks": ""
             }
            },
            "type": "scattergeo"
           }
          ],
          "scattergl": [
           {
            "marker": {
             "colorbar": {
              "outlinewidth": 0,
              "ticks": ""
             }
            },
            "type": "scattergl"
           }
          ],
          "scattermapbox": [
           {
            "marker": {
             "colorbar": {
              "outlinewidth": 0,
              "ticks": ""
             }
            },
            "type": "scattermapbox"
           }
          ],
          "scatterpolar": [
           {
            "marker": {
             "colorbar": {
              "outlinewidth": 0,
              "ticks": ""
             }
            },
            "type": "scatterpolar"
           }
          ],
          "scatterpolargl": [
           {
            "marker": {
             "colorbar": {
              "outlinewidth": 0,
              "ticks": ""
             }
            },
            "type": "scatterpolargl"
           }
          ],
          "scatterternary": [
           {
            "marker": {
             "colorbar": {
              "outlinewidth": 0,
              "ticks": ""
             }
            },
            "type": "scatterternary"
           }
          ],
          "surface": [
           {
            "colorbar": {
             "outlinewidth": 0,
             "ticks": ""
            },
            "colorscale": [
             [
              0,
              "#0d0887"
             ],
             [
              0.1111111111111111,
              "#46039f"
             ],
             [
              0.2222222222222222,
              "#7201a8"
             ],
             [
              0.3333333333333333,
              "#9c179e"
             ],
             [
              0.4444444444444444,
              "#bd3786"
             ],
             [
              0.5555555555555556,
              "#d8576b"
             ],
             [
              0.6666666666666666,
              "#ed7953"
             ],
             [
              0.7777777777777778,
              "#fb9f3a"
             ],
             [
              0.8888888888888888,
              "#fdca26"
             ],
             [
              1,
              "#f0f921"
             ]
            ],
            "type": "surface"
           }
          ],
          "table": [
           {
            "cells": {
             "fill": {
              "color": "#EBF0F8"
             },
             "line": {
              "color": "white"
             }
            },
            "header": {
             "fill": {
              "color": "#C8D4E3"
             },
             "line": {
              "color": "white"
             }
            },
            "type": "table"
           }
          ]
         },
         "layout": {
          "annotationdefaults": {
           "arrowcolor": "#2a3f5f",
           "arrowhead": 0,
           "arrowwidth": 1
          },
          "autotypenumbers": "strict",
          "coloraxis": {
           "colorbar": {
            "outlinewidth": 0,
            "ticks": ""
           }
          },
          "colorscale": {
           "diverging": [
            [
             0,
             "#8e0152"
            ],
            [
             0.1,
             "#c51b7d"
            ],
            [
             0.2,
             "#de77ae"
            ],
            [
             0.3,
             "#f1b6da"
            ],
            [
             0.4,
             "#fde0ef"
            ],
            [
             0.5,
             "#f7f7f7"
            ],
            [
             0.6,
             "#e6f5d0"
            ],
            [
             0.7,
             "#b8e186"
            ],
            [
             0.8,
             "#7fbc41"
            ],
            [
             0.9,
             "#4d9221"
            ],
            [
             1,
             "#276419"
            ]
           ],
           "sequential": [
            [
             0,
             "#0d0887"
            ],
            [
             0.1111111111111111,
             "#46039f"
            ],
            [
             0.2222222222222222,
             "#7201a8"
            ],
            [
             0.3333333333333333,
             "#9c179e"
            ],
            [
             0.4444444444444444,
             "#bd3786"
            ],
            [
             0.5555555555555556,
             "#d8576b"
            ],
            [
             0.6666666666666666,
             "#ed7953"
            ],
            [
             0.7777777777777778,
             "#fb9f3a"
            ],
            [
             0.8888888888888888,
             "#fdca26"
            ],
            [
             1,
             "#f0f921"
            ]
           ],
           "sequentialminus": [
            [
             0,
             "#0d0887"
            ],
            [
             0.1111111111111111,
             "#46039f"
            ],
            [
             0.2222222222222222,
             "#7201a8"
            ],
            [
             0.3333333333333333,
             "#9c179e"
            ],
            [
             0.4444444444444444,
             "#bd3786"
            ],
            [
             0.5555555555555556,
             "#d8576b"
            ],
            [
             0.6666666666666666,
             "#ed7953"
            ],
            [
             0.7777777777777778,
             "#fb9f3a"
            ],
            [
             0.8888888888888888,
             "#fdca26"
            ],
            [
             1,
             "#f0f921"
            ]
           ]
          },
          "colorway": [
           "#636efa",
           "#EF553B",
           "#00cc96",
           "#ab63fa",
           "#FFA15A",
           "#19d3f3",
           "#FF6692",
           "#B6E880",
           "#FF97FF",
           "#FECB52"
          ],
          "font": {
           "color": "#2a3f5f"
          },
          "geo": {
           "bgcolor": "white",
           "lakecolor": "white",
           "landcolor": "#E5ECF6",
           "showlakes": true,
           "showland": true,
           "subunitcolor": "white"
          },
          "hoverlabel": {
           "align": "left"
          },
          "hovermode": "closest",
          "mapbox": {
           "style": "light"
          },
          "paper_bgcolor": "white",
          "plot_bgcolor": "#E5ECF6",
          "polar": {
           "angularaxis": {
            "gridcolor": "white",
            "linecolor": "white",
            "ticks": ""
           },
           "bgcolor": "#E5ECF6",
           "radialaxis": {
            "gridcolor": "white",
            "linecolor": "white",
            "ticks": ""
           }
          },
          "scene": {
           "xaxis": {
            "backgroundcolor": "#E5ECF6",
            "gridcolor": "white",
            "gridwidth": 2,
            "linecolor": "white",
            "showbackground": true,
            "ticks": "",
            "zerolinecolor": "white"
           },
           "yaxis": {
            "backgroundcolor": "#E5ECF6",
            "gridcolor": "white",
            "gridwidth": 2,
            "linecolor": "white",
            "showbackground": true,
            "ticks": "",
            "zerolinecolor": "white"
           },
           "zaxis": {
            "backgroundcolor": "#E5ECF6",
            "gridcolor": "white",
            "gridwidth": 2,
            "linecolor": "white",
            "showbackground": true,
            "ticks": "",
            "zerolinecolor": "white"
           }
          },
          "shapedefaults": {
           "line": {
            "color": "#2a3f5f"
           }
          },
          "ternary": {
           "aaxis": {
            "gridcolor": "white",
            "linecolor": "white",
            "ticks": ""
           },
           "baxis": {
            "gridcolor": "white",
            "linecolor": "white",
            "ticks": ""
           },
           "bgcolor": "#E5ECF6",
           "caxis": {
            "gridcolor": "white",
            "linecolor": "white",
            "ticks": ""
           }
          },
          "title": {
           "x": 0.05
          },
          "xaxis": {
           "automargin": true,
           "gridcolor": "white",
           "linecolor": "white",
           "ticks": "",
           "title": {
            "standoff": 15
           },
           "zerolinecolor": "white",
           "zerolinewidth": 2
          },
          "yaxis": {
           "automargin": true,
           "gridcolor": "white",
           "linecolor": "white",
           "ticks": "",
           "title": {
            "standoff": 15
           },
           "zerolinecolor": "white",
           "zerolinewidth": 2
          }
         }
        },
        "xaxis": {
         "autorange": true,
         "range": [
          0,
          26
         ],
         "type": "category"
        },
        "yaxis": {
         "autorange": true,
         "range": [
          -1.9976342675072023,
          15.397756153268643
         ],
         "type": "linear"
        }
       }
      },
      "image/png": "[encoded data removed]",
      "text/html": [
       "<div>                            <div id=\"e656af8e-9674-4464-9dc9-327be24790dc\" class=\"plotly-graph-div\" style=\"height:525px; width:100%;\"></div>            <script type=\"text/javascript\">                require([\"plotly\"], function(Plotly) {                    window.PLOTLYENV=window.PLOTLYENV || {};                                    if (document.getElementById(\"e656af8e-9674-4464-9dc9-327be24790dc\")) {                    Plotly.newPlot(                        \"e656af8e-9674-4464-9dc9-327be24790dc\",                        [{\"x\":[\"1994\",\"1995\",\"1996\",\"1997\",\"1998\",\"1999\",\"2000\",\"2001\",\"2002\",\"2003\",\"2004\",\"2005\",\"2006\",\"2007\",\"2008\",\"2009\",\"2010\",\"2011\",\"2012\",\"2013\",\"2014\",\"2015\",\"2016\",\"2017\",\"2018\",\"2019\",\"2020\"],\"y\":[-1.12786474646841,9.72270234784105,11.56351280713408,14.019988532167726,14.527986632229851,13.905606621634536,8.952204387332529,5.490038522927865,1.6634416859317547,3.8031582084834703,4.139841537446309,3.8969668688695336,4.5185159871279135,4.311371197418978,0.7100046020661388,2.135649403907691,2.7230434170491424,2.555905762149324,3.102808643259203,4.2590120265519005,4.539483121619825,4.260337192360342,4.458799374687072,5.01776686576858,4.520085756550252,5.338342797660101,5.678555443197042],\"type\":\"scatter\"}],                        {\"template\":{\"data\":{\"histogram2dcontour\":[{\"type\":\"histogram2dcontour\",\"colorbar\":{\"outlinewidth\":0,\"ticks\":\"\"},\"colorscale\":[[0.0,\"#0d0887\"],[0.1111111111111111,\"#46039f\"],[0.2222222222222222,\"#7201a8\"],[0.3333333333333333,\"#9c179e\"],[0.4444444444444444,\"#bd3786\"],[0.5555555555555556,\"#d8576b\"],[0.6666666666666666,\"#ed7953\"],[0.7777777777777778,\"#fb9f3a\"],[0.8888888888888888,\"#fdca26\"],[1.0,\"#f0f921\"]]}],\"choropleth\":[{\"type\":\"choropleth\",\"colorbar\":{\"outlinewidth\":0,\"ticks\":\"\"}}],\"histogram2d\":[{\"type\":\"histogram2d\",\"colorbar\":{\"outlinewidth\":0,\"ticks\":\"\"},\"colorscale\":[[0.0,\"#0d0887\"],[0.1111111111111111,\"#46039f\"],[0.2222222222222222,\"#7201a8\"],[0.3333333333333333,\"#9c179e\"],[0.4444444444444444,\"#bd3786\"],[0.5555555555555556,\"#d8576b\"],[0.6666666666666666,\"#ed7953\"],[0.7777777777777778,\"#fb9f3a\"],[0.8888888888888888,\"#fdca26\"],[1.0,\"#f0f921\"]]}],\"heatmap\":[{\"type\":\"heatmap\",\"colorbar\":{\"outlinewidth\":0,\"ticks\":\"\"},\"colorscale\":[[0.0,\"#0d0887\"],[0.1111111111111111,\"#46039f\"],[0.2222222222222222,\"#7201a8\"],[0.3333333333333333,\"#9c179e\"],[0.4444444444444444,\"#bd3786\"],[0.5555555555555556,\"#d8576b\"],[0.6666666666666666,\"#ed7953\"],[0.7777777777777778,\"#fb9f3a\"],[0.8888888888888888,\"#fdca26\"],[1.0,\"#f0f921\"]]}],\"heatmapgl\":[{\"type\":\"heatmapgl\",\"colorbar\":{\"outlinewidth\":0,\"ticks\":\"\"},\"colorscale\":[[0.0,\"#0d0887\"],[0.1111111111111111,\"#46039f\"],[0.2222222222222222,\"#7201a8\"],[0.3333333333333333,\"#9c179e\"],[0.4444444444444444,\"#bd3786\"],[0.5555555555555556,\"#d8576b\"],[0.6666666666666666,\"#ed7953\"],[0.7777777777777778,\"#fb9f3a\"],[0.8888888888888888,\"#fdca26\"],[1.0,\"#f0f921\"]]}],\"contourcarpet\":[{\"type\":\"contourcarpet\",\"colorbar\":{\"outlinewidth\":0,\"ticks\":\"\"}}],\"contour\":[{\"type\":\"contour\",\"colorbar\":{\"outlinewidth\":0,\"ticks\":\"\"},\"colorscale\":[[0.0,\"#0d0887\"],[0.1111111111111111,\"#46039f\"],[0.2222222222222222,\"#7201a8\"],[0.3333333333333333,\"#9c179e\"],[0.4444444444444444,\"#bd3786\"],[0.5555555555555556,\"#d8576b\"],[0.6666666666666666,\"#ed7953\"],[0.7777777777777778,\"#fb9f3a\"],[0.8888888888888888,\"#fdca26\"],[1.0,\"#f0f921\"]]}],\"surface\":[{\"type\":\"surface\",\"colorbar\":{\"outlinewidth\":0,\"ticks\":\"\"},\"colorscale\":[[0.0,\"#0d0887\"],[0.1111111111111111,\"#46039f\"],[0.2222222222222222,\"#7201a8\"],[0.3333333333333333,\"#9c179e\"],[0.4444444444444444,\"#bd3786\"],[0.5555555555555556,\"#d8576b\"],[0.6666666666666666,\"#ed7953\"],[0.7777777777777778,\"#fb9f3a\"],[0.8888888888888888,\"#fdca26\"],[1.0,\"#f0f921\"]]}],\"mesh3d\":[{\"type\":\"mesh3d\",\"colorbar\":{\"outlinewidth\":0,\"ticks\":\"\"}}],\"scatter\":[{\"fillpattern\":{\"fillmode\":\"overlay\",\"size\":10,\"solidity\":0.2},\"type\":\"scatter\"}],\"parcoords\":[{\"type\":\"parcoords\",\"line\":{\"colorbar\":{\"outlinewidth\":0,\"ticks\":\"\"}}}],\"scatterpolargl\":[{\"type\":\"scatterpolargl\",\"marker\":{\"colorbar\":{\"outlinewidth\":0,\"ticks\":\"\"}}}],\"bar\":[{\"error_x\":{\"color\":\"#2a3f5f\"},\"error_y\":{\"color\":\"#2a3f5f\"},\"marker\":{\"line\":{\"color\":\"#E5ECF6\",\"width\":0.5},\"pattern\":{\"fillmode\":\"overlay\",\"size\":10,\"solidity\":0.2}},\"type\":\"bar\"}],\"scattergeo\":[{\"type\":\"scattergeo\",\"marker\":{\"colorbar\":{\"outlinewidth\":0,\"ticks\":\"\"}}}],\"scatterpolar\":[{\"type\":\"scatterpolar\",\"marker\":{\"colorbar\":{\"outlinewidth\":0,\"ticks\":\"\"}}}],\"histogram\":[{\"marker\":{\"pattern\":{\"fillmode\":\"overlay\",\"size\":10,\"solidity\":0.2}},\"type\":\"histogram\"}],\"scattergl\":[{\"type\":\"scattergl\",\"marker\":{\"colorbar\":{\"outlinewidth\":0,\"ticks\":\"\"}}}],\"scatter3d\":[{\"type\":\"scatter3d\",\"line\":{\"colorbar\":{\"outlinewidth\":0,\"ticks\":\"\"}},\"marker\":{\"colorbar\":{\"outlinewidth\":0,\"ticks\":\"\"}}}],\"scattermapbox\":[{\"type\":\"scattermapbox\",\"marker\":{\"colorbar\":{\"outlinewidth\":0,\"ticks\":\"\"}}}],\"scatterternary\":[{\"type\":\"scatterternary\",\"marker\":{\"colorbar\":{\"outlinewidth\":0,\"ticks\":\"\"}}}],\"scattercarpet\":[{\"type\":\"scattercarpet\",\"marker\":{\"colorbar\":{\"outlinewidth\":0,\"ticks\":\"\"}}}],\"carpet\":[{\"aaxis\":{\"endlinecolor\":\"#2a3f5f\",\"gridcolor\":\"white\",\"linecolor\":\"white\",\"minorgridcolor\":\"white\",\"startlinecolor\":\"#2a3f5f\"},\"baxis\":{\"endlinecolor\":\"#2a3f5f\",\"gridcolor\":\"white\",\"linecolor\":\"white\",\"minorgridcolor\":\"white\",\"startlinecolor\":\"#2a3f5f\"},\"type\":\"carpet\"}],\"table\":[{\"cells\":{\"fill\":{\"color\":\"#EBF0F8\"},\"line\":{\"color\":\"white\"}},\"header\":{\"fill\":{\"color\":\"#C8D4E3\"},\"line\":{\"color\":\"white\"}},\"type\":\"table\"}],\"barpolar\":[{\"marker\":{\"line\":{\"color\":\"#E5ECF6\",\"width\":0.5},\"pattern\":{\"fillmode\":\"overlay\",\"size\":10,\"solidity\":0.2}},\"type\":\"barpolar\"}],\"pie\":[{\"automargin\":true,\"type\":\"pie\"}]},\"layout\":{\"autotypenumbers\":\"strict\",\"colorway\":[\"#636efa\",\"#EF553B\",\"#00cc96\",\"#ab63fa\",\"#FFA15A\",\"#19d3f3\",\"#FF6692\",\"#B6E880\",\"#FF97FF\",\"#FECB52\"],\"font\":{\"color\":\"#2a3f5f\"},\"hovermode\":\"closest\",\"hoverlabel\":{\"align\":\"left\"},\"paper_bgcolor\":\"white\",\"plot_bgcolor\":\"#E5ECF6\",\"polar\":{\"bgcolor\":\"#E5ECF6\",\"angularaxis\":{\"gridcolor\":\"white\",\"linecolor\":\"white\",\"ticks\":\"\"},\"radialaxis\":{\"gridcolor\":\"white\",\"linecolor\":\"white\",\"ticks\":\"\"}},\"ternary\":{\"bgcolor\":\"#E5ECF6\",\"aaxis\":{\"gridcolor\":\"white\",\"linecolor\":\"white\",\"ticks\":\"\"},\"baxis\":{\"gridcolor\":\"white\",\"linecolor\":\"white\",\"ticks\":\"\"},\"caxis\":{\"gridcolor\":\"white\",\"linecolor\":\"white\",\"ticks\":\"\"}},\"coloraxis\":{\"colorbar\":{\"outlinewidth\":0,\"ticks\":\"\"}},\"colorscale\":{\"sequential\":[[0.0,\"#0d0887\"],[0.1111111111111111,\"#46039f\"],[0.2222222222222222,\"#7201a8\"],[0.3333333333333333,\"#9c179e\"],[0.4444444444444444,\"#bd3786\"],[0.5555555555555556,\"#d8576b\"],[0.6666666666666666,\"#ed7953\"],[0.7777777777777778,\"#fb9f3a\"],[0.8888888888888888,\"#fdca26\"],[1.0,\"#f0f921\"]],\"sequentialminus\":[[0.0,\"#0d0887\"],[0.1111111111111111,\"#46039f\"],[0.2222222222222222,\"#7201a8\"],[0.3333333333333333,\"#9c179e\"],[0.4444444444444444,\"#bd3786\"],[0.5555555555555556,\"#d8576b\"],[0.6666666666666666,\"#ed7953\"],[0.7777777777777778,\"#fb9f3a\"],[0.8888888888888888,\"#fdca26\"],[1.0,\"#f0f921\"]],\"diverging\":[[0,\"#8e0152\"],[0.1,\"#c51b7d\"],[0.2,\"#de77ae\"],[0.3,\"#f1b6da\"],[0.4,\"#fde0ef\"],[0.5,\"#f7f7f7\"],[0.6,\"#e6f5d0\"],[0.7,\"#b8e186\"],[0.8,\"#7fbc41\"],[0.9,\"#4d9221\"],[1,\"#276419\"]]},\"xaxis\":{\"gridcolor\":\"white\",\"linecolor\":\"white\",\"ticks\":\"\",\"title\":{\"standoff\":15},\"zerolinecolor\":\"white\",\"automargin\":true,\"zerolinewidth\":2},\"yaxis\":{\"gridcolor\":\"white\",\"linecolor\":\"white\",\"ticks\":\"\",\"title\":{\"standoff\":15},\"zerolinecolor\":\"white\",\"automargin\":true,\"zerolinewidth\":2},\"scene\":{\"xaxis\":{\"backgroundcolor\":\"#E5ECF6\",\"gridcolor\":\"white\",\"linecolor\":\"white\",\"showbackground\":true,\"ticks\":\"\",\"zerolinecolor\":\"white\",\"gridwidth\":2},\"yaxis\":{\"backgroundcolor\":\"#E5ECF6\",\"gridcolor\":\"white\",\"linecolor\":\"white\",\"showbackground\":true,\"ticks\":\"\",\"zerolinecolor\":\"white\",\"gridwidth\":2},\"zaxis\":{\"backgroundcolor\":\"#E5ECF6\",\"gridcolor\":\"white\",\"linecolor\":\"white\",\"showbackground\":true,\"ticks\":\"\",\"zerolinecolor\":\"white\",\"gridwidth\":2}},\"shapedefaults\":{\"line\":{\"color\":\"#2a3f5f\"}},\"annotationdefaults\":{\"arrowcolor\":\"#2a3f5f\",\"arrowhead\":0,\"arrowwidth\":1},\"geo\":{\"bgcolor\":\"white\",\"landcolor\":\"#E5ECF6\",\"subunitcolor\":\"white\",\"showland\":true,\"showlakes\":true,\"lakecolor\":\"white\"},\"title\":{\"x\":0.05},\"mapbox\":{\"style\":\"light\"}}}},                        {\"responsive\": true}                    ).then(function(){\n",
       "                            \n",
       "var gd = document.getElementById('e656af8e-9674-4464-9dc9-327be24790dc');\n",
       "var x = new MutationObserver(function (mutations, observer) {{\n",
       "        var display = window.getComputedStyle(gd).display;\n",
       "        if (!display || display === 'none') {{\n",
       "            console.log([gd, 'removed!']);\n",
       "            Plotly.purge(gd);\n",
       "            observer.disconnect();\n",
       "        }}\n",
       "}});\n",
       "\n",
       "// Listen for the removal of the full notebook cells\n",
       "var notebookContainer = gd.closest('#notebook-container');\n",
       "if (notebookContainer) {{\n",
       "    x.observe(notebookContainer, {childList: true});\n",
       "}}\n",
       "\n",
       "// Listen for the clearing of the current output cell\n",
       "var outputEl = gd.closest('.output');\n",
       "if (outputEl) {{\n",
       "    x.observe(outputEl, {childList: true});\n",
       "}}\n",
       "\n",
       "                        })                };                });            </script>        </div>"
      ]
     },
     "metadata": {},
     "output_type": "display_data"
    }
   ],
   "source": [
    "fig = go.Figure(go.Line(x=investor.stock_profit['Y'],y=((investor.stock_profit['total_value']/investor.stock_profit['total_cost'])**(1/(investor.stock_profit.index+1)) - 1)*100))\n",
    "fig.show()"
   ]
  },
  {
   "cell_type": "code",
   "execution_count": 125,
   "id": "ed42ed96-f38e-46f5-899f-4578b6fd938b",
   "metadata": {},
   "outputs": [
    {
     "name": "stdout",
     "output_type": "stream",
     "text": [
      "  lucky   1.32   0.24   1.69  22.95 115.44   6.30   6.30\n",
      "unlucky   0.81  -0.05  -0.31  -5.61  68.90   5.28   5.28\n",
      "    som   1.14   0.11   0.11   9.50  99.27   5.88   5.88\n",
      " random   1.03   0.07   0.18   6.26  88.38   5.72   5.72\n"
     ]
    }
   ],
   "source": [
    "for investor in investors:    \n",
    "    investor.stock_profit['total_value'] = investor.stock_profit['current_price']*investor.stock_profit['shares']\n",
    "    investor.stock_profit['total_cost'] = investor.stock_profit['avg_cost']*investor.stock_profit['shares']\n",
    "    investor.stock_profit['Y'] = investor.stock_profit['as_of_date'].apply(lambda v: v.strftime('%Y'))\n",
    "    investor.transaction_history['Y'] = investor.transaction_history['YM'].apply(lambda v: v[:4])\n",
    "    mdf = investor.transaction_history.merge(investor.stock_profit.drop(columns='symbol').rename(columns=lambda v: v+'_profit' if v in ['date','YM'] else v),on='Y')\n",
    "    \n",
    "\n",
    "    mdf['days'] = (mdf['as_of_date'] - mdf['date'] ).apply(lambda v: v.days)\n",
    "    print(\"{:>7} {:>6.2f} {:>6.2f} {:>6.2f} {:>6.2f} {:>6.2f} {:>6.2f} {:>6.2f}\".format(investor.name,\n",
    "                                                  ((investor.stock_profit['total_value'] - investor.stock_profit['total_cost'])/investor.stock_profit['total_cost']).mean(),\n",
    "                                                  ((mdf['current_price']-mdf['price'])/mdf['price']).mean(),\n",
    "                                                  ((mdf['current_price']/mdf['price'])**(365/mdf['days']) - 1).mean(),\n",
    "                                                  (((1+(mdf['current_price'] - mdf['price'])/mdf['price']).prod()**(1/mdf.shape[0]) - 1)*100),\n",
    "                                                  (((1+(mdf['current_price'] - mdf['dca'])/mdf['dca']).prod()**(1/mdf.shape[0]) - 1)*100),                   \n",
    "                                                  (((mdf['current_price']/mdf['dca']).iloc[-1])**(1/mdf.shape[0]) - 1)*100,\n",
    "                                                  (((mdf['current_price']/mdf['dca']).iloc[-1])**(1/mdf.shape[0]) - 1)*100,\n",
    "                                                  ((investor.stock_profit['total_value']/investor.stock_profit['total_cost']).iloc[-1]**(1/investor.stock_profit.shape[0])-1)*100                                       \n",
    "                                                                     ))\n",
    "    "
   ]
  },
  {
   "cell_type": "code",
   "execution_count": 13,
   "id": "51475594-9f3d-47d8-9631-fa01507a07e5",
   "metadata": {},
   "outputs": [
    {
     "data": {
      "application/vnd.plotly.v1+json": {
       "config": {
        "plotlyServerURL": "https://plot.ly"
       },
       "data": [
        {
         "name": "lucky",
         "type": "scatter",
         "x": [
          "2000",
          "2001",
          "2002",
          "2003",
          "2004",
          "2005",
          "2006",
          "2007",
          "2008",
          "2009",
          "2010",
          "2011",
          "2012",
          "2013",
          "2014",
          "2015",
          "2016",
          "2017",
          "2018",
          "2019",
          "2020"
         ],
         "y": [
          47.84929656982422,
          24.201801300048828,
          17.22199249267578,
          20.432878494262695,
          27.887184143066406,
          30.087867736816406,
          31.101030349731445,
          36.78602600097656,
          22.4218692779541,
          22.612560272216797,
          37.64870071411133,
          44.76792907714844,
          51.20500946044922,
          60.4173583984375,
          77.69871520996094,
          92.22777557373047,
          91.0611572265625,
          114.2721939086914,
          139.59634399414062,
          145.74444580078125,
          166.05177307128906
         ]
        },
        {
         "name": "unlucky",
         "type": "scatter",
         "x": [
          "2000",
          "2001",
          "2002",
          "2003",
          "2004",
          "2005",
          "2006",
          "2007",
          "2008",
          "2009",
          "2010",
          "2011",
          "2012",
          "2013",
          "2014",
          "2015",
          "2016",
          "2017",
          "2018",
          "2019",
          "2020"
         ],
         "y": [
          101.09120178222656,
          58.17842483520508,
          35.77470397949219,
          31.399921417236328,
          34.76663589477539,
          36.546730041503906,
          38.990169525146484,
          48.119747161865234,
          44.30965042114258,
          40.82877731323242,
          48.93783187866211,
          53.35822677612305,
          63.607234954833984,
          81.08175659179688,
          98.84921264648438,
          108.541015625,
          115.49578857421875,
          153.03146362304688,
          180.8164825439453,
          209.68814086914062,
          309.472412109375
         ]
        },
        {
         "name": "som",
         "type": "scatter",
         "x": [
          "2000",
          "2001",
          "2002",
          "2003",
          "2004",
          "2005",
          "2006",
          "2007",
          "2008",
          "2009",
          "2010",
          "2011",
          "2012",
          "2013",
          "2014",
          "2015",
          "2016",
          "2017",
          "2018",
          "2019",
          "2020"
         ],
         "y": [
          81.34517669677734,
          45.87738037109375,
          34.435401916503906,
          21.806522369384766,
          31.228139877319336,
          34.249881744384766,
          35.93891143798828,
          37.7373046875,
          44.125831604003906,
          27.259817123413086,
          41.00546646118164,
          49.31228256225586,
          51.20500946044922,
          61.228267669677734,
          80.44572448730469,
          96.34423828125,
          103.52155303955078,
          114.2721939086914,
          152.88674926757812,
          150.6667938232422,
          212.0126953125
         ]
        },
        {
         "name": "random",
         "type": "scatter",
         "x": [
          "2000",
          "2001",
          "2002",
          "2003",
          "2004",
          "2005",
          "2006",
          "2007",
          "2008",
          "2009",
          "2010",
          "2011",
          "2012",
          "2013",
          "2014",
          "2015",
          "2016",
          "2017",
          "2018",
          "2019",
          "2020"
         ],
         "y": [
          95.72544860839844,
          37.30287551879883,
          20.8707275390625,
          20.55306625366211,
          29.690771102905273,
          34.26417922973633,
          36.27925109863281,
          41.40268325805664,
          43.00397491455078,
          37.97402572631836,
          48.554439544677734,
          50.47110366821289,
          58.041595458984375,
          71.3209457397461,
          90.34477233886719,
          101.246826171875,
          101.88047790527344,
          151.7591094970703,
          161.88693237304688,
          183.774169921875,
          308.7030334472656
         ]
        }
       ],
       "layout": {
        "autosize": true,
        "hovermode": "x unified",
        "template": {
         "data": {
          "bar": [
           {
            "error_x": {
             "color": "#2a3f5f"
            },
            "error_y": {
             "color": "#2a3f5f"
            },
            "marker": {
             "line": {
              "color": "#E5ECF6",
              "width": 0.5
             },
             "pattern": {
              "fillmode": "overlay",
              "size": 10,
              "solidity": 0.2
             }
            },
            "type": "bar"
           }
          ],
          "barpolar": [
           {
            "marker": {
             "line": {
              "color": "#E5ECF6",
              "width": 0.5
             },
             "pattern": {
              "fillmode": "overlay",
              "size": 10,
              "solidity": 0.2
             }
            },
            "type": "barpolar"
           }
          ],
          "carpet": [
           {
            "aaxis": {
             "endlinecolor": "#2a3f5f",
             "gridcolor": "white",
             "linecolor": "white",
             "minorgridcolor": "white",
             "startlinecolor": "#2a3f5f"
            },
            "baxis": {
             "endlinecolor": "#2a3f5f",
             "gridcolor": "white",
             "linecolor": "white",
             "minorgridcolor": "white",
             "startlinecolor": "#2a3f5f"
            },
            "type": "carpet"
           }
          ],
          "choropleth": [
           {
            "colorbar": {
             "outlinewidth": 0,
             "ticks": ""
            },
            "type": "choropleth"
           }
          ],
          "contour": [
           {
            "colorbar": {
             "outlinewidth": 0,
             "ticks": ""
            },
            "colorscale": [
             [
              0,
              "#0d0887"
             ],
             [
              0.1111111111111111,
              "#46039f"
             ],
             [
              0.2222222222222222,
              "#7201a8"
             ],
             [
              0.3333333333333333,
              "#9c179e"
             ],
             [
              0.4444444444444444,
              "#bd3786"
             ],
             [
              0.5555555555555556,
              "#d8576b"
             ],
             [
              0.6666666666666666,
              "#ed7953"
             ],
             [
              0.7777777777777778,
              "#fb9f3a"
             ],
             [
              0.8888888888888888,
              "#fdca26"
             ],
             [
              1,
              "#f0f921"
             ]
            ],
            "type": "contour"
           }
          ],
          "contourcarpet": [
           {
            "colorbar": {
             "outlinewidth": 0,
             "ticks": ""
            },
            "type": "contourcarpet"
           }
          ],
          "heatmap": [
           {
            "colorbar": {
             "outlinewidth": 0,
             "ticks": ""
            },
            "colorscale": [
             [
              0,
              "#0d0887"
             ],
             [
              0.1111111111111111,
              "#46039f"
             ],
             [
              0.2222222222222222,
              "#7201a8"
             ],
             [
              0.3333333333333333,
              "#9c179e"
             ],
             [
              0.4444444444444444,
              "#bd3786"
             ],
             [
              0.5555555555555556,
              "#d8576b"
             ],
             [
              0.6666666666666666,
              "#ed7953"
             ],
             [
              0.7777777777777778,
              "#fb9f3a"
             ],
             [
              0.8888888888888888,
              "#fdca26"
             ],
             [
              1,
              "#f0f921"
             ]
            ],
            "type": "heatmap"
           }
          ],
          "heatmapgl": [
           {
            "colorbar": {
             "outlinewidth": 0,
             "ticks": ""
            },
            "colorscale": [
             [
              0,
              "#0d0887"
             ],
             [
              0.1111111111111111,
              "#46039f"
             ],
             [
              0.2222222222222222,
              "#7201a8"
             ],
             [
              0.3333333333333333,
              "#9c179e"
             ],
             [
              0.4444444444444444,
              "#bd3786"
             ],
             [
              0.5555555555555556,
              "#d8576b"
             ],
             [
              0.6666666666666666,
              "#ed7953"
             ],
             [
              0.7777777777777778,
              "#fb9f3a"
             ],
             [
              0.8888888888888888,
              "#fdca26"
             ],
             [
              1,
              "#f0f921"
             ]
            ],
            "type": "heatmapgl"
           }
          ],
          "histogram": [
           {
            "marker": {
             "pattern": {
              "fillmode": "overlay",
              "size": 10,
              "solidity": 0.2
             }
            },
            "type": "histogram"
           }
          ],
          "histogram2d": [
           {
            "colorbar": {
             "outlinewidth": 0,
             "ticks": ""
            },
            "colorscale": [
             [
              0,
              "#0d0887"
             ],
             [
              0.1111111111111111,
              "#46039f"
             ],
             [
              0.2222222222222222,
              "#7201a8"
             ],
             [
              0.3333333333333333,
              "#9c179e"
             ],
             [
              0.4444444444444444,
              "#bd3786"
             ],
             [
              0.5555555555555556,
              "#d8576b"
             ],
             [
              0.6666666666666666,
              "#ed7953"
             ],
             [
              0.7777777777777778,
              "#fb9f3a"
             ],
             [
              0.8888888888888888,
              "#fdca26"
             ],
             [
              1,
              "#f0f921"
             ]
            ],
            "type": "histogram2d"
           }
          ],
          "histogram2dcontour": [
           {
            "colorbar": {
             "outlinewidth": 0,
             "ticks": ""
            },
            "colorscale": [
             [
              0,
              "#0d0887"
             ],
             [
              0.1111111111111111,
              "#46039f"
             ],
             [
              0.2222222222222222,
              "#7201a8"
             ],
             [
              0.3333333333333333,
              "#9c179e"
             ],
             [
              0.4444444444444444,
              "#bd3786"
             ],
             [
              0.5555555555555556,
              "#d8576b"
             ],
             [
              0.6666666666666666,
              "#ed7953"
             ],
             [
              0.7777777777777778,
              "#fb9f3a"
             ],
             [
              0.8888888888888888,
              "#fdca26"
             ],
             [
              1,
              "#f0f921"
             ]
            ],
            "type": "histogram2dcontour"
           }
          ],
          "mesh3d": [
           {
            "colorbar": {
             "outlinewidth": 0,
             "ticks": ""
            },
            "type": "mesh3d"
           }
          ],
          "parcoords": [
           {
            "line": {
             "colorbar": {
              "outlinewidth": 0,
              "ticks": ""
             }
            },
            "type": "parcoords"
           }
          ],
          "pie": [
           {
            "automargin": true,
            "type": "pie"
           }
          ],
          "scatter": [
           {
            "fillpattern": {
             "fillmode": "overlay",
             "size": 10,
             "solidity": 0.2
            },
            "type": "scatter"
           }
          ],
          "scatter3d": [
           {
            "line": {
             "colorbar": {
              "outlinewidth": 0,
              "ticks": ""
             }
            },
            "marker": {
             "colorbar": {
              "outlinewidth": 0,
              "ticks": ""
             }
            },
            "type": "scatter3d"
           }
          ],
          "scattercarpet": [
           {
            "marker": {
             "colorbar": {
              "outlinewidth": 0,
              "ticks": ""
             }
            },
            "type": "scattercarpet"
           }
          ],
          "scattergeo": [
           {
            "marker": {
             "colorbar": {
              "outlinewidth": 0,
              "ticks": ""
             }
            },
            "type": "scattergeo"
           }
          ],
          "scattergl": [
           {
            "marker": {
             "colorbar": {
              "outlinewidth": 0,
              "ticks": ""
             }
            },
            "type": "scattergl"
           }
          ],
          "scattermapbox": [
           {
            "marker": {
             "colorbar": {
              "outlinewidth": 0,
              "ticks": ""
             }
            },
            "type": "scattermapbox"
           }
          ],
          "scatterpolar": [
           {
            "marker": {
             "colorbar": {
              "outlinewidth": 0,
              "ticks": ""
             }
            },
            "type": "scatterpolar"
           }
          ],
          "scatterpolargl": [
           {
            "marker": {
             "colorbar": {
              "outlinewidth": 0,
              "ticks": ""
             }
            },
            "type": "scatterpolargl"
           }
          ],
          "scatterternary": [
           {
            "marker": {
             "colorbar": {
              "outlinewidth": 0,
              "ticks": ""
             }
            },
            "type": "scatterternary"
           }
          ],
          "surface": [
           {
            "colorbar": {
             "outlinewidth": 0,
             "ticks": ""
            },
            "colorscale": [
             [
              0,
              "#0d0887"
             ],
             [
              0.1111111111111111,
              "#46039f"
             ],
             [
              0.2222222222222222,
              "#7201a8"
             ],
             [
              0.3333333333333333,
              "#9c179e"
             ],
             [
              0.4444444444444444,
              "#bd3786"
             ],
             [
              0.5555555555555556,
              "#d8576b"
             ],
             [
              0.6666666666666666,
              "#ed7953"
             ],
             [
              0.7777777777777778,
              "#fb9f3a"
             ],
             [
              0.8888888888888888,
              "#fdca26"
             ],
             [
              1,
              "#f0f921"
             ]
            ],
            "type": "surface"
           }
          ],
          "table": [
           {
            "cells": {
             "fill": {
              "color": "#EBF0F8"
             },
             "line": {
              "color": "white"
             }
            },
            "header": {
             "fill": {
              "color": "#C8D4E3"
             },
             "line": {
              "color": "white"
             }
            },
            "type": "table"
           }
          ]
         },
         "layout": {
          "annotationdefaults": {
           "arrowcolor": "#2a3f5f",
           "arrowhead": 0,
           "arrowwidth": 1
          },
          "autotypenumbers": "strict",
          "coloraxis": {
           "colorbar": {
            "outlinewidth": 0,
            "ticks": ""
           }
          },
          "colorscale": {
           "diverging": [
            [
             0,
             "#8e0152"
            ],
            [
             0.1,
             "#c51b7d"
            ],
            [
             0.2,
             "#de77ae"
            ],
            [
             0.3,
             "#f1b6da"
            ],
            [
             0.4,
             "#fde0ef"
            ],
            [
             0.5,
             "#f7f7f7"
            ],
            [
             0.6,
             "#e6f5d0"
            ],
            [
             0.7,
             "#b8e186"
            ],
            [
             0.8,
             "#7fbc41"
            ],
            [
             0.9,
             "#4d9221"
            ],
            [
             1,
             "#276419"
            ]
           ],
           "sequential": [
            [
             0,
             "#0d0887"
            ],
            [
             0.1111111111111111,
             "#46039f"
            ],
            [
             0.2222222222222222,
             "#7201a8"
            ],
            [
             0.3333333333333333,
             "#9c179e"
            ],
            [
             0.4444444444444444,
             "#bd3786"
            ],
            [
             0.5555555555555556,
             "#d8576b"
            ],
            [
             0.6666666666666666,
             "#ed7953"
            ],
            [
             0.7777777777777778,
             "#fb9f3a"
            ],
            [
             0.8888888888888888,
             "#fdca26"
            ],
            [
             1,
             "#f0f921"
            ]
           ],
           "sequentialminus": [
            [
             0,
             "#0d0887"
            ],
            [
             0.1111111111111111,
             "#46039f"
            ],
            [
             0.2222222222222222,
             "#7201a8"
            ],
            [
             0.3333333333333333,
             "#9c179e"
            ],
            [
             0.4444444444444444,
             "#bd3786"
            ],
            [
             0.5555555555555556,
             "#d8576b"
            ],
            [
             0.6666666666666666,
             "#ed7953"
            ],
            [
             0.7777777777777778,
             "#fb9f3a"
            ],
            [
             0.8888888888888888,
             "#fdca26"
            ],
            [
             1,
             "#f0f921"
            ]
           ]
          },
          "colorway": [
           "#636efa",
           "#EF553B",
           "#00cc96",
           "#ab63fa",
           "#FFA15A",
           "#19d3f3",
           "#FF6692",
           "#B6E880",
           "#FF97FF",
           "#FECB52"
          ],
          "font": {
           "color": "#2a3f5f"
          },
          "geo": {
           "bgcolor": "white",
           "lakecolor": "white",
           "landcolor": "#E5ECF6",
           "showlakes": true,
           "showland": true,
           "subunitcolor": "white"
          },
          "hoverlabel": {
           "align": "left"
          },
          "hovermode": "closest",
          "mapbox": {
           "style": "light"
          },
          "paper_bgcolor": "white",
          "plot_bgcolor": "#E5ECF6",
          "polar": {
           "angularaxis": {
            "gridcolor": "white",
            "linecolor": "white",
            "ticks": ""
           },
           "bgcolor": "#E5ECF6",
           "radialaxis": {
            "gridcolor": "white",
            "linecolor": "white",
            "ticks": ""
           }
          },
          "scene": {
           "xaxis": {
            "backgroundcolor": "#E5ECF6",
            "gridcolor": "white",
            "gridwidth": 2,
            "linecolor": "white",
            "showbackground": true,
            "ticks": "",
            "zerolinecolor": "white"
           },
           "yaxis": {
            "backgroundcolor": "#E5ECF6",
            "gridcolor": "white",
            "gridwidth": 2,
            "linecolor": "white",
            "showbackground": true,
            "ticks": "",
            "zerolinecolor": "white"
           },
           "zaxis": {
            "backgroundcolor": "#E5ECF6",
            "gridcolor": "white",
            "gridwidth": 2,
            "linecolor": "white",
            "showbackground": true,
            "ticks": "",
            "zerolinecolor": "white"
           }
          },
          "shapedefaults": {
           "line": {
            "color": "#2a3f5f"
           }
          },
          "ternary": {
           "aaxis": {
            "gridcolor": "white",
            "linecolor": "white",
            "ticks": ""
           },
           "baxis": {
            "gridcolor": "white",
            "linecolor": "white",
            "ticks": ""
           },
           "bgcolor": "#E5ECF6",
           "caxis": {
            "gridcolor": "white",
            "linecolor": "white",
            "ticks": ""
           }
          },
          "title": {
           "x": 0.05
          },
          "xaxis": {
           "automargin": true,
           "gridcolor": "white",
           "linecolor": "white",
           "ticks": "",
           "title": {
            "standoff": 15
           },
           "zerolinecolor": "white",
           "zerolinewidth": 2
          },
          "yaxis": {
           "automargin": true,
           "gridcolor": "white",
           "linecolor": "white",
           "ticks": "",
           "title": {
            "standoff": 15
           },
           "zerolinecolor": "white",
           "zerolinewidth": 2
          }
         }
        },
        "xaxis": {
         "autorange": true,
         "range": [
          0,
          20
         ],
         "type": "category"
        },
        "yaxis": {
         "autorange": true,
         "range": [
          0.9858580695258254,
          325.70854653252496
         ],
         "type": "linear"
        }
       }
      },
      "image/png": "[encoded data removed]",
      "text/html": [
       "<div>                            <div id=\"d0a8cbc7-1466-4dbe-8ddc-f93d65aa8279\" class=\"plotly-graph-div\" style=\"height:525px; width:100%;\"></div>            <script type=\"text/javascript\">                require([\"plotly\"], function(Plotly) {                    window.PLOTLYENV=window.PLOTLYENV || {};                                    if (document.getElementById(\"d0a8cbc7-1466-4dbe-8ddc-f93d65aa8279\")) {                    Plotly.newPlot(                        \"d0a8cbc7-1466-4dbe-8ddc-f93d65aa8279\",                        [{\"name\":\"lucky\",\"x\":[\"2000\",\"2001\",\"2002\",\"2003\",\"2004\",\"2005\",\"2006\",\"2007\",\"2008\",\"2009\",\"2010\",\"2011\",\"2012\",\"2013\",\"2014\",\"2015\",\"2016\",\"2017\",\"2018\",\"2019\",\"2020\"],\"y\":[47.84929656982422,24.201801300048828,17.22199249267578,20.432878494262695,27.887184143066406,30.087867736816406,31.101030349731445,36.78602600097656,22.4218692779541,22.612560272216797,37.64870071411133,44.76792907714844,51.20500946044922,60.4173583984375,77.69871520996094,92.22777557373047,91.0611572265625,114.2721939086914,139.59634399414062,145.74444580078125,166.05177307128906],\"type\":\"scatter\"},{\"name\":\"unlucky\",\"x\":[\"2000\",\"2001\",\"2002\",\"2003\",\"2004\",\"2005\",\"2006\",\"2007\",\"2008\",\"2009\",\"2010\",\"2011\",\"2012\",\"2013\",\"2014\",\"2015\",\"2016\",\"2017\",\"2018\",\"2019\",\"2020\"],\"y\":[101.09120178222656,58.17842483520508,35.77470397949219,31.399921417236328,34.76663589477539,36.546730041503906,38.990169525146484,48.119747161865234,44.30965042114258,40.82877731323242,48.93783187866211,53.35822677612305,63.607234954833984,81.08175659179688,98.84921264648438,108.541015625,115.49578857421875,153.03146362304688,180.8164825439453,209.68814086914062,309.472412109375],\"type\":\"scatter\"},{\"name\":\"som\",\"x\":[\"2000\",\"2001\",\"2002\",\"2003\",\"2004\",\"2005\",\"2006\",\"2007\",\"2008\",\"2009\",\"2010\",\"2011\",\"2012\",\"2013\",\"2014\",\"2015\",\"2016\",\"2017\",\"2018\",\"2019\",\"2020\"],\"y\":[81.34517669677734,45.87738037109375,34.435401916503906,21.806522369384766,31.228139877319336,34.249881744384766,35.93891143798828,37.7373046875,44.125831604003906,27.259817123413086,41.00546646118164,49.31228256225586,51.20500946044922,61.228267669677734,80.44572448730469,96.34423828125,103.52155303955078,114.2721939086914,152.88674926757812,150.6667938232422,212.0126953125],\"type\":\"scatter\"},{\"name\":\"random\",\"x\":[\"2000\",\"2001\",\"2002\",\"2003\",\"2004\",\"2005\",\"2006\",\"2007\",\"2008\",\"2009\",\"2010\",\"2011\",\"2012\",\"2013\",\"2014\",\"2015\",\"2016\",\"2017\",\"2018\",\"2019\",\"2020\"],\"y\":[95.72544860839844,37.30287551879883,20.8707275390625,20.55306625366211,29.690771102905273,34.26417922973633,36.27925109863281,41.40268325805664,43.00397491455078,37.97402572631836,48.554439544677734,50.47110366821289,58.041595458984375,71.3209457397461,90.34477233886719,101.246826171875,101.88047790527344,151.7591094970703,161.88693237304688,183.774169921875,308.7030334472656],\"type\":\"scatter\"}],                        {\"template\":{\"data\":{\"histogram2dcontour\":[{\"type\":\"histogram2dcontour\",\"colorbar\":{\"outlinewidth\":0,\"ticks\":\"\"},\"colorscale\":[[0.0,\"#0d0887\"],[0.1111111111111111,\"#46039f\"],[0.2222222222222222,\"#7201a8\"],[0.3333333333333333,\"#9c179e\"],[0.4444444444444444,\"#bd3786\"],[0.5555555555555556,\"#d8576b\"],[0.6666666666666666,\"#ed7953\"],[0.7777777777777778,\"#fb9f3a\"],[0.8888888888888888,\"#fdca26\"],[1.0,\"#f0f921\"]]}],\"choropleth\":[{\"type\":\"choropleth\",\"colorbar\":{\"outlinewidth\":0,\"ticks\":\"\"}}],\"histogram2d\":[{\"type\":\"histogram2d\",\"colorbar\":{\"outlinewidth\":0,\"ticks\":\"\"},\"colorscale\":[[0.0,\"#0d0887\"],[0.1111111111111111,\"#46039f\"],[0.2222222222222222,\"#7201a8\"],[0.3333333333333333,\"#9c179e\"],[0.4444444444444444,\"#bd3786\"],[0.5555555555555556,\"#d8576b\"],[0.6666666666666666,\"#ed7953\"],[0.7777777777777778,\"#fb9f3a\"],[0.8888888888888888,\"#fdca26\"],[1.0,\"#f0f921\"]]}],\"heatmap\":[{\"type\":\"heatmap\",\"colorbar\":{\"outlinewidth\":0,\"ticks\":\"\"},\"colorscale\":[[0.0,\"#0d0887\"],[0.1111111111111111,\"#46039f\"],[0.2222222222222222,\"#7201a8\"],[0.3333333333333333,\"#9c179e\"],[0.4444444444444444,\"#bd3786\"],[0.5555555555555556,\"#d8576b\"],[0.6666666666666666,\"#ed7953\"],[0.7777777777777778,\"#fb9f3a\"],[0.8888888888888888,\"#fdca26\"],[1.0,\"#f0f921\"]]}],\"heatmapgl\":[{\"type\":\"heatmapgl\",\"colorbar\":{\"outlinewidth\":0,\"ticks\":\"\"},\"colorscale\":[[0.0,\"#0d0887\"],[0.1111111111111111,\"#46039f\"],[0.2222222222222222,\"#7201a8\"],[0.3333333333333333,\"#9c179e\"],[0.4444444444444444,\"#bd3786\"],[0.5555555555555556,\"#d8576b\"],[0.6666666666666666,\"#ed7953\"],[0.7777777777777778,\"#fb9f3a\"],[0.8888888888888888,\"#fdca26\"],[1.0,\"#f0f921\"]]}],\"contourcarpet\":[{\"type\":\"contourcarpet\",\"colorbar\":{\"outlinewidth\":0,\"ticks\":\"\"}}],\"contour\":[{\"type\":\"contour\",\"colorbar\":{\"outlinewidth\":0,\"ticks\":\"\"},\"colorscale\":[[0.0,\"#0d0887\"],[0.1111111111111111,\"#46039f\"],[0.2222222222222222,\"#7201a8\"],[0.3333333333333333,\"#9c179e\"],[0.4444444444444444,\"#bd3786\"],[0.5555555555555556,\"#d8576b\"],[0.6666666666666666,\"#ed7953\"],[0.7777777777777778,\"#fb9f3a\"],[0.8888888888888888,\"#fdca26\"],[1.0,\"#f0f921\"]]}],\"surface\":[{\"type\":\"surface\",\"colorbar\":{\"outlinewidth\":0,\"ticks\":\"\"},\"colorscale\":[[0.0,\"#0d0887\"],[0.1111111111111111,\"#46039f\"],[0.2222222222222222,\"#7201a8\"],[0.3333333333333333,\"#9c179e\"],[0.4444444444444444,\"#bd3786\"],[0.5555555555555556,\"#d8576b\"],[0.6666666666666666,\"#ed7953\"],[0.7777777777777778,\"#fb9f3a\"],[0.8888888888888888,\"#fdca26\"],[1.0,\"#f0f921\"]]}],\"mesh3d\":[{\"type\":\"mesh3d\",\"colorbar\":{\"outlinewidth\":0,\"ticks\":\"\"}}],\"scatter\":[{\"fillpattern\":{\"fillmode\":\"overlay\",\"size\":10,\"solidity\":0.2},\"type\":\"scatter\"}],\"parcoords\":[{\"type\":\"parcoords\",\"line\":{\"colorbar\":{\"outlinewidth\":0,\"ticks\":\"\"}}}],\"scatterpolargl\":[{\"type\":\"scatterpolargl\",\"marker\":{\"colorbar\":{\"outlinewidth\":0,\"ticks\":\"\"}}}],\"bar\":[{\"error_x\":{\"color\":\"#2a3f5f\"},\"error_y\":{\"color\":\"#2a3f5f\"},\"marker\":{\"line\":{\"color\":\"#E5ECF6\",\"width\":0.5},\"pattern\":{\"fillmode\":\"overlay\",\"size\":10,\"solidity\":0.2}},\"type\":\"bar\"}],\"scattergeo\":[{\"type\":\"scattergeo\",\"marker\":{\"colorbar\":{\"outlinewidth\":0,\"ticks\":\"\"}}}],\"scatterpolar\":[{\"type\":\"scatterpolar\",\"marker\":{\"colorbar\":{\"outlinewidth\":0,\"ticks\":\"\"}}}],\"histogram\":[{\"marker\":{\"pattern\":{\"fillmode\":\"overlay\",\"size\":10,\"solidity\":0.2}},\"type\":\"histogram\"}],\"scattergl\":[{\"type\":\"scattergl\",\"marker\":{\"colorbar\":{\"outlinewidth\":0,\"ticks\":\"\"}}}],\"scatter3d\":[{\"type\":\"scatter3d\",\"line\":{\"colorbar\":{\"outlinewidth\":0,\"ticks\":\"\"}},\"marker\":{\"colorbar\":{\"outlinewidth\":0,\"ticks\":\"\"}}}],\"scattermapbox\":[{\"type\":\"scattermapbox\",\"marker\":{\"colorbar\":{\"outlinewidth\":0,\"ticks\":\"\"}}}],\"scatterternary\":[{\"type\":\"scatterternary\",\"marker\":{\"colorbar\":{\"outlinewidth\":0,\"ticks\":\"\"}}}],\"scattercarpet\":[{\"type\":\"scattercarpet\",\"marker\":{\"colorbar\":{\"outlinewidth\":0,\"ticks\":\"\"}}}],\"carpet\":[{\"aaxis\":{\"endlinecolor\":\"#2a3f5f\",\"gridcolor\":\"white\",\"linecolor\":\"white\",\"minorgridcolor\":\"white\",\"startlinecolor\":\"#2a3f5f\"},\"baxis\":{\"endlinecolor\":\"#2a3f5f\",\"gridcolor\":\"white\",\"linecolor\":\"white\",\"minorgridcolor\":\"white\",\"startlinecolor\":\"#2a3f5f\"},\"type\":\"carpet\"}],\"table\":[{\"cells\":{\"fill\":{\"color\":\"#EBF0F8\"},\"line\":{\"color\":\"white\"}},\"header\":{\"fill\":{\"color\":\"#C8D4E3\"},\"line\":{\"color\":\"white\"}},\"type\":\"table\"}],\"barpolar\":[{\"marker\":{\"line\":{\"color\":\"#E5ECF6\",\"width\":0.5},\"pattern\":{\"fillmode\":\"overlay\",\"size\":10,\"solidity\":0.2}},\"type\":\"barpolar\"}],\"pie\":[{\"automargin\":true,\"type\":\"pie\"}]},\"layout\":{\"autotypenumbers\":\"strict\",\"colorway\":[\"#636efa\",\"#EF553B\",\"#00cc96\",\"#ab63fa\",\"#FFA15A\",\"#19d3f3\",\"#FF6692\",\"#B6E880\",\"#FF97FF\",\"#FECB52\"],\"font\":{\"color\":\"#2a3f5f\"},\"hovermode\":\"closest\",\"hoverlabel\":{\"align\":\"left\"},\"paper_bgcolor\":\"white\",\"plot_bgcolor\":\"#E5ECF6\",\"polar\":{\"bgcolor\":\"#E5ECF6\",\"angularaxis\":{\"gridcolor\":\"white\",\"linecolor\":\"white\",\"ticks\":\"\"},\"radialaxis\":{\"gridcolor\":\"white\",\"linecolor\":\"white\",\"ticks\":\"\"}},\"ternary\":{\"bgcolor\":\"#E5ECF6\",\"aaxis\":{\"gridcolor\":\"white\",\"linecolor\":\"white\",\"ticks\":\"\"},\"baxis\":{\"gridcolor\":\"white\",\"linecolor\":\"white\",\"ticks\":\"\"},\"caxis\":{\"gridcolor\":\"white\",\"linecolor\":\"white\",\"ticks\":\"\"}},\"coloraxis\":{\"colorbar\":{\"outlinewidth\":0,\"ticks\":\"\"}},\"colorscale\":{\"sequential\":[[0.0,\"#0d0887\"],[0.1111111111111111,\"#46039f\"],[0.2222222222222222,\"#7201a8\"],[0.3333333333333333,\"#9c179e\"],[0.4444444444444444,\"#bd3786\"],[0.5555555555555556,\"#d8576b\"],[0.6666666666666666,\"#ed7953\"],[0.7777777777777778,\"#fb9f3a\"],[0.8888888888888888,\"#fdca26\"],[1.0,\"#f0f921\"]],\"sequentialminus\":[[0.0,\"#0d0887\"],[0.1111111111111111,\"#46039f\"],[0.2222222222222222,\"#7201a8\"],[0.3333333333333333,\"#9c179e\"],[0.4444444444444444,\"#bd3786\"],[0.5555555555555556,\"#d8576b\"],[0.6666666666666666,\"#ed7953\"],[0.7777777777777778,\"#fb9f3a\"],[0.8888888888888888,\"#fdca26\"],[1.0,\"#f0f921\"]],\"diverging\":[[0,\"#8e0152\"],[0.1,\"#c51b7d\"],[0.2,\"#de77ae\"],[0.3,\"#f1b6da\"],[0.4,\"#fde0ef\"],[0.5,\"#f7f7f7\"],[0.6,\"#e6f5d0\"],[0.7,\"#b8e186\"],[0.8,\"#7fbc41\"],[0.9,\"#4d9221\"],[1,\"#276419\"]]},\"xaxis\":{\"gridcolor\":\"white\",\"linecolor\":\"white\",\"ticks\":\"\",\"title\":{\"standoff\":15},\"zerolinecolor\":\"white\",\"automargin\":true,\"zerolinewidth\":2},\"yaxis\":{\"gridcolor\":\"white\",\"linecolor\":\"white\",\"ticks\":\"\",\"title\":{\"standoff\":15},\"zerolinecolor\":\"white\",\"automargin\":true,\"zerolinewidth\":2},\"scene\":{\"xaxis\":{\"backgroundcolor\":\"#E5ECF6\",\"gridcolor\":\"white\",\"linecolor\":\"white\",\"showbackground\":true,\"ticks\":\"\",\"zerolinecolor\":\"white\",\"gridwidth\":2},\"yaxis\":{\"backgroundcolor\":\"#E5ECF6\",\"gridcolor\":\"white\",\"linecolor\":\"white\",\"showbackground\":true,\"ticks\":\"\",\"zerolinecolor\":\"white\",\"gridwidth\":2},\"zaxis\":{\"backgroundcolor\":\"#E5ECF6\",\"gridcolor\":\"white\",\"linecolor\":\"white\",\"showbackground\":true,\"ticks\":\"\",\"zerolinecolor\":\"white\",\"gridwidth\":2}},\"shapedefaults\":{\"line\":{\"color\":\"#2a3f5f\"}},\"annotationdefaults\":{\"arrowcolor\":\"#2a3f5f\",\"arrowhead\":0,\"arrowwidth\":1},\"geo\":{\"bgcolor\":\"white\",\"landcolor\":\"#E5ECF6\",\"subunitcolor\":\"white\",\"showland\":true,\"showlakes\":true,\"lakecolor\":\"white\"},\"title\":{\"x\":0.05},\"mapbox\":{\"style\":\"light\"}}},\"hovermode\":\"x unified\"},                        {\"responsive\": true}                    ).then(function(){\n",
       "                            \n",
       "var gd = document.getElementById('d0a8cbc7-1466-4dbe-8ddc-f93d65aa8279');\n",
       "var x = new MutationObserver(function (mutations, observer) {{\n",
       "        var display = window.getComputedStyle(gd).display;\n",
       "        if (!display || display === 'none') {{\n",
       "            console.log([gd, 'removed!']);\n",
       "            Plotly.purge(gd);\n",
       "            observer.disconnect();\n",
       "        }}\n",
       "}});\n",
       "\n",
       "// Listen for the removal of the full notebook cells\n",
       "var notebookContainer = gd.closest('#notebook-container');\n",
       "if (notebookContainer) {{\n",
       "    x.observe(notebookContainer, {childList: true});\n",
       "}}\n",
       "\n",
       "// Listen for the clearing of the current output cell\n",
       "var outputEl = gd.closest('.output');\n",
       "if (outputEl) {{\n",
       "    x.observe(outputEl, {childList: true});\n",
       "}}\n",
       "\n",
       "                        })                };                });            </script>        </div>"
      ]
     },
     "metadata": {},
     "output_type": "display_data"
    }
   ],
   "source": [
    "        \n",
    "fig = go.Figure()\n",
    "\n",
    "for investor in investors:\n",
    "    fig.add_trace(go.Scatter(x=yms, y=investor.transaction_history['price'],\n",
    "                             name=investor.name))\n",
    "fig.update_layout(hovermode='x unified')\n",
    "fig.show()"
   ]
  },
  {
   "cell_type": "code",
   "execution_count": 7,
   "id": "87118a16-949f-4398-82d8-18a3a32f4105",
   "metadata": {},
   "outputs": [
    {
     "data": {
      "application/vnd.jupyter.widget-view+json": {
       "model_id": "38967eaa53834d58bd014c1579fa702b",
       "version_major": 2,
       "version_minor": 0
      },
      "text/plain": [
       "interactive(children=(Dropdown(description='ticker', options=('SPY', 'IWV', 'QQQ'), value='SPY'), Checkbox(val…"
      ]
     },
     "metadata": {},
     "output_type": "display_data"
    }
   ],
   "source": [
    "@interact(ticker = tickers,\n",
    "          verbose=False)\n",
    "\n",
    "def F(ticker,\n",
    "      verbose):\n",
    "\n",
    "    initial_deposit = 0\n",
    "    shares_to_buy = 5\n",
    "    amount_to_deposit_monthly = 1_000\n",
    "    fixed_amount = amount_to_deposit_monthly\n",
    "\n",
    "    lucky_investor = fixedAmountLuckyInvestor('lucky',initial_deposit,verbose=True)\n",
    "    unlucky_investor = fixedAmountUnluckyInvestor('unlucky',initial_deposit,verbose=True)\n",
    "    som_investor = fixedAmountSomInvestor('som',initial_deposit,verbose=True)\n",
    "    random_investor = fixedAmountRandomInvestor('random',initial_deposit,verbose=True)\n",
    "    investors = [lucky_investor,unlucky_investor,som_investor,random_investor]\n",
    "\n",
    "    dfs = etf_stocks[ticker].rename(columns={'Close':'price'})\n",
    "    dfs = dfs[dfs['Y'] <'2021']\n",
    "\n",
    "    dfs = dfs.sort_values('date').reset_index(drop=True)\n",
    "    dfs['YM'] = dfs['date'].apply(lambda v: v.strftime('%Y'))\n",
    "    yms = np.sort(dfs['YM'].unique())\n",
    "    pbar = tqdm(yms)\n",
    "    for ym in pbar:\n",
    "        pbar.set_description(\"Processing %s\" % ym)\n",
    "        dfym = dfs[dfs['YM'] == ym]\n",
    "\n",
    "        for investor in investors:\n",
    "            investor.depositMoney(amount_to_deposit_monthly)\n",
    "\n",
    "        dfym_symbol = dfym#[dfym['symbol'] == symbol]\n",
    "        if dfym_symbol.shape[0] == 0:\n",
    "            continue\n",
    "        for investor in investors:\n",
    "            investor.buyLogic(dfym_symbol,shares=shares_to_buy,stock_amount=fixed_amount)\n",
    "\n",
    "        symbols_and_prices = dfym.groupby(['symbol'],as_index=False)['date'].max()\n",
    "        symbols_and_prices = symbols_and_prices.merge(dfym,on=['symbol','date'])\n",
    "        stocks = {}\n",
    "        for i,(symbol,price,date) in symbols_and_prices[['symbol','price','date']].iterrows():\n",
    "            stocks[int(symbol)] = price\n",
    "            stocks['date'] = date\n",
    "\n",
    "        for investor in investors:\n",
    "            investor.updatePortfolio(stocks)\n",
    "            investor.calculateProfit(stocks)\n",
    "\n",
    "\n",
    "\n",
    "    if verbose: \n",
    "        fig = go.Figure()\n",
    "\n",
    "        for investor in investors:\n",
    "            fig.add_trace(go.Scatter(x=yms, y=investor.portfolio,\n",
    "                                     name=investor.name))\n",
    "\n",
    "        fig.update_layout(hovermode='x unified')\n",
    "        fig.show()   \n",
    "\n",
    "        fig = go.Figure()\n",
    "\n",
    "        for investor in investors:\n",
    "            fig.add_trace(go.Scatter(x=yms, y=investor.transaction_history['price'],\n",
    "                                     name=investor.name))\n",
    "        fig.update_layout(hovermode='x unified')\n",
    "        fig.show()\n",
    "\n",
    "        for investor in investors:\n",
    "            print(investor)\n",
    "            print(\"*\"*60)\n",
    "\n",
    "    for investor in investors:    \n",
    "        investor.stock_profit['total_value'] = investor.stock_profit['current_price']*investor.stock_profit['shares']\n",
    "        investor.stock_profit['total_cost'] = investor.stock_profit['avg_cost']*investor.stock_profit['shares']\n",
    "        investor.stock_profit['Y'] = investor.stock_profit['as_of_date'].apply(lambda v: v.strftime('%Y'))\n",
    "        investor.transaction_history['Y'] = investor.transaction_history['YM'].apply(lambda v: v[:4])\n",
    "        mdf = investor.transaction_history.merge(investor.stock_profit.drop(columns='symbol').rename(columns=lambda v: v+'_profit' if v in ['date','YM'] else v),on='Y')\n",
    "\n",
    "\n",
    "        mdf['days'] = (mdf['as_of_date'] - mdf['date'] ).apply(lambda v: v.days)\n",
    "        print(\"{:>7} {:>6.2f} {:>6.2f} {:>6.2f} {:>6.2f} {:>6.2f} {:>6.2f} {:>6.2f}\".format(investor.name,\n",
    "                                                      ((investor.stock_profit['total_value'] - investor.stock_profit['total_cost'])/investor.stock_profit['total_cost']).mean(),\n",
    "                                                      ((mdf['current_price']-mdf['price'])/mdf['price']).mean(),\n",
    "                                                      ((mdf['current_price']/mdf['price'])**(365/mdf['days']) - 1).mean(),\n",
    "                                                      (((1+(mdf['current_price'] - mdf['price'])/mdf['price']).prod()**(1/mdf.shape[0]) - 1)*100),\n",
    "                                                      (((1+(mdf['current_price'] - mdf['dca'])/mdf['dca']).prod()**(1/mdf.shape[0]) - 1)*100),                   \n",
    "                                                      (((mdf['current_price']/mdf['dca']).iloc[-1])**(1/mdf.shape[0]) - 1)*100,\n",
    "                                                      (((mdf['current_price']/mdf['dca']).iloc[-1])**(1/mdf.shape[0]) - 1)*100,\n",
    "                                                      ((investor.stock_profit['total_value']/investor.stock_profit['total_cost']).iloc[-1]**(1/investor.stock_profit.shape[0])-1)*100                                       \n",
    "                                                                         ))\n"
   ]
  },
  {
   "cell_type": "code",
   "execution_count": null,
   "id": "f8aedffa-4336-4d2f-a804-1bcce5e179bf",
   "metadata": {},
   "outputs": [],
   "source": []
  },
  {
   "cell_type": "code",
   "execution_count": null,
   "id": "4a552460-8b8c-487d-b7d1-a47f1c2a15dd",
   "metadata": {},
   "outputs": [],
   "source": []
  }
 ],
 "metadata": {
  "kernelspec": {
   "display_name": "Python 3 (ipykernel)",
   "language": "python",
   "name": "python3"
  },
  "language_info": {
   "codemirror_mode": {
    "name": "ipython",
    "version": 3
   },
   "file_extension": ".py",
   "mimetype": "text/x-python",
   "name": "python",
   "nbconvert_exporter": "python",
   "pygments_lexer": "ipython3",
   "version": "3.9.7"
  }
 },
 "nbformat": 4,
 "nbformat_minor": 5
}
