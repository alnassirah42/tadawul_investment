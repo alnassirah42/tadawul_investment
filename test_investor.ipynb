{
 "cells": [
  {
   "cell_type": "code",
   "execution_count": 12,
   "id": "1ada3640-2803-4c85-a056-50c82ec5d2fb",
   "metadata": {},
   "outputs": [],
   "source": [
    "import pandas as pd \n",
    "import numpy as np "
   ]
  },
  {
   "cell_type": "code",
   "execution_count": 1,
   "id": "d85ea2ba-6748-45a0-a772-dcac1cf613b7",
   "metadata": {},
   "outputs": [],
   "source": [
    "from investor import Investor"
   ]
  },
  {
   "cell_type": "code",
   "execution_count": 2,
   "id": "bad16ecc-7e67-45cc-80ba-e7476231c8c5",
   "metadata": {},
   "outputs": [],
   "source": [
    "investor = Investor('#1',100_000)"
   ]
  },
  {
   "cell_type": "code",
   "execution_count": 3,
   "id": "e5c84653-4c74-4b59-86a6-fc6200717862",
   "metadata": {},
   "outputs": [],
   "source": [
    "investor.buy(2111,50,25,'2022-01-01')"
   ]
  },
  {
   "cell_type": "code",
   "execution_count": 4,
   "id": "4dec71e3-97f6-4147-a2e8-b4a21b58c473",
   "metadata": {},
   "outputs": [],
   "source": [
    "investor.buy(2111,50,27,\"2022-01-02\")"
   ]
  },
  {
   "cell_type": "code",
   "execution_count": 5,
   "id": "812f04a9-fe82-4deb-a32d-308422738803",
   "metadata": {},
   "outputs": [
    {
     "name": "stdout",
     "output_type": "stream",
     "text": [
      "\n",
      "name       : #1\n",
      "money held : 97,400\n",
      "stocks     : [2111]\n",
      "profit     : [0]\n",
      "    \n",
      "----------------------------------------\n",
      "         date symbol action shares price total   dca\n",
      "0  2022-01-01   2111    buy     50    25  1250  25.0\n",
      "1  2022-01-02   2111    buy     50    27  1350  26.0\n"
     ]
    }
   ],
   "source": [
    "print(investor)"
   ]
  },
  {
   "cell_type": "code",
   "execution_count": 6,
   "id": "6fdf9c30-cc29-4761-af4d-5a75cac2253b",
   "metadata": {},
   "outputs": [],
   "source": [
    "investor.calculateProfit({2111:26})"
   ]
  },
  {
   "cell_type": "code",
   "execution_count": 7,
   "id": "7800ec9d-28bb-416c-9737-89d072a9f6a6",
   "metadata": {},
   "outputs": [
    {
     "name": "stdout",
     "output_type": "stream",
     "text": [
      "\n",
      "name       : #1\n",
      "money held : 97,400\n",
      "stocks     : [2111]\n",
      "profit     : [0, {'total profit': 0.0, 'profit pct': 0.0}]\n",
      "    \n",
      "----------------------------------------\n",
      "         date symbol action shares price total   dca\n",
      "0  2022-01-01   2111    buy     50    25  1250  25.0\n",
      "1  2022-01-02   2111    buy     50    27  1350  26.0\n"
     ]
    }
   ],
   "source": [
    "print(investor)"
   ]
  },
  {
   "cell_type": "code",
   "execution_count": 8,
   "id": "12476ea3-e1a6-4d0d-af3c-0911ce7aa472",
   "metadata": {},
   "outputs": [],
   "source": [
    "investor.sell(2111,50,50,\"2022-01-03\")"
   ]
  },
  {
   "cell_type": "code",
   "execution_count": 9,
   "id": "c411139d-bd44-47d8-a12b-866db10bd671",
   "metadata": {},
   "outputs": [
    {
     "name": "stdout",
     "output_type": "stream",
     "text": [
      "\n",
      "name       : #1\n",
      "money held : 99,900\n",
      "stocks     : [2111]\n",
      "profit     : [0, {'total profit': 0.0, 'profit pct': 0.0}]\n",
      "    \n",
      "----------------------------------------\n",
      "         date symbol action shares price total   dca\n",
      "0  2022-01-01   2111    buy     50    25  1250  25.0\n",
      "1  2022-01-02   2111    buy     50    27  1350  26.0\n",
      "2  2022-01-03   2111   sell     50    50  2500  34.0\n"
     ]
    }
   ],
   "source": [
    "print(investor)"
   ]
  },
  {
   "cell_type": "code",
   "execution_count": 10,
   "id": "a446aa6a-34ee-4431-8fb4-6f1c9bc5cfbd",
   "metadata": {},
   "outputs": [],
   "source": [
    "investor.updatePortfolio({2111:60})"
   ]
  },
  {
   "cell_type": "code",
   "execution_count": 20,
   "id": "5b851c93-64fa-47a9-837a-2fee8b09251d",
   "metadata": {},
   "outputs": [
    {
     "name": "stderr",
     "output_type": "stream",
     "text": [
      "/Users/alialnasser/opt/anaconda3/lib/python3.9/site-packages/IPython/core/interactiveshell.py:3444: DtypeWarning: Columns (7) have mixed types.Specify dtype option on import or set low_memory=False.\n",
      "  exec(code_obj, self.user_global_ns, self.user_ns)\n"
     ]
    }
   ],
   "source": [
    "df = pd.read_csv('../../collect_tadawul/tadawul_data.csv')"
   ]
  },
  {
   "cell_type": "code",
   "execution_count": 26,
   "id": "405573fc-beaf-4b6a-b9bb-87b34e2004be",
   "metadata": {},
   "outputs": [],
   "source": [
    "df['date'] = pd.to_datetime(df['transactionDateStr'])"
   ]
  },
  {
   "cell_type": "code",
   "execution_count": 30,
   "id": "5ec3e5ca-f758-411c-870a-3caece81c18f",
   "metadata": {},
   "outputs": [],
   "source": [
    "df = df[['symbol','previousClosePrice','date']].rename(columns={'previousClosePrice':'price'})"
   ]
  },
  {
   "cell_type": "code",
   "execution_count": 35,
   "id": "b5008114-284c-4329-a2c1-e1548a964235",
   "metadata": {},
   "outputs": [],
   "source": [
    "df1010 = df[df['symbol'] == 1010]"
   ]
  },
  {
   "cell_type": "code",
   "execution_count": 39,
   "id": "918edeb5-a1d9-484e-8b9f-9aa367cefea9",
   "metadata": {},
   "outputs": [],
   "source": [
    "df1010 = df1010.sort_values('date').reset_index(drop=True)"
   ]
  },
  {
   "cell_type": "code",
   "execution_count": 41,
   "id": "67540b10-84dc-4958-a3f9-51afd35fc1c3",
   "metadata": {},
   "outputs": [],
   "source": [
    "df1010['YM'] = df1010['date'].apply(lambda v: v.strftime('%Y-%m'))"
   ]
  },
  {
   "cell_type": "code",
   "execution_count": 42,
   "id": "54ecb1fa-b45f-4a2d-8815-ddf64713ffab",
   "metadata": {},
   "outputs": [
    {
     "data": {
      "text/html": [
       "<div>\n",
       "<style scoped>\n",
       "    .dataframe tbody tr th:only-of-type {\n",
       "        vertical-align: middle;\n",
       "    }\n",
       "\n",
       "    .dataframe tbody tr th {\n",
       "        vertical-align: top;\n",
       "    }\n",
       "\n",
       "    .dataframe thead th {\n",
       "        text-align: right;\n",
       "    }\n",
       "</style>\n",
       "<table border=\"1\" class=\"dataframe\">\n",
       "  <thead>\n",
       "    <tr style=\"text-align: right;\">\n",
       "      <th></th>\n",
       "      <th>symbol</th>\n",
       "      <th>price</th>\n",
       "      <th>date</th>\n",
       "      <th>YM</th>\n",
       "    </tr>\n",
       "  </thead>\n",
       "  <tbody>\n",
       "    <tr>\n",
       "      <th>0</th>\n",
       "      <td>1010</td>\n",
       "      <td>7.75</td>\n",
       "      <td>2001-12-31</td>\n",
       "      <td>2001-12</td>\n",
       "    </tr>\n",
       "    <tr>\n",
       "      <th>1</th>\n",
       "      <td>1010</td>\n",
       "      <td>7.88</td>\n",
       "      <td>2002-01-03</td>\n",
       "      <td>2002-01</td>\n",
       "    </tr>\n",
       "    <tr>\n",
       "      <th>2</th>\n",
       "      <td>1010</td>\n",
       "      <td>7.88</td>\n",
       "      <td>2002-01-05</td>\n",
       "      <td>2002-01</td>\n",
       "    </tr>\n",
       "    <tr>\n",
       "      <th>3</th>\n",
       "      <td>1010</td>\n",
       "      <td>7.88</td>\n",
       "      <td>2002-01-06</td>\n",
       "      <td>2002-01</td>\n",
       "    </tr>\n",
       "    <tr>\n",
       "      <th>4</th>\n",
       "      <td>1010</td>\n",
       "      <td>7.75</td>\n",
       "      <td>2002-01-07</td>\n",
       "      <td>2002-01</td>\n",
       "    </tr>\n",
       "    <tr>\n",
       "      <th>...</th>\n",
       "      <td>...</td>\n",
       "      <td>...</td>\n",
       "      <td>...</td>\n",
       "      <td>...</td>\n",
       "    </tr>\n",
       "    <tr>\n",
       "      <th>5461</th>\n",
       "      <td>1010</td>\n",
       "      <td>28.35</td>\n",
       "      <td>2023-03-12</td>\n",
       "      <td>2023-03</td>\n",
       "    </tr>\n",
       "    <tr>\n",
       "      <th>5462</th>\n",
       "      <td>1010</td>\n",
       "      <td>27.60</td>\n",
       "      <td>2023-03-13</td>\n",
       "      <td>2023-03</td>\n",
       "    </tr>\n",
       "    <tr>\n",
       "      <th>5463</th>\n",
       "      <td>1010</td>\n",
       "      <td>27.05</td>\n",
       "      <td>2023-03-14</td>\n",
       "      <td>2023-03</td>\n",
       "    </tr>\n",
       "    <tr>\n",
       "      <th>5464</th>\n",
       "      <td>1010</td>\n",
       "      <td>26.20</td>\n",
       "      <td>2023-03-15</td>\n",
       "      <td>2023-03</td>\n",
       "    </tr>\n",
       "    <tr>\n",
       "      <th>5465</th>\n",
       "      <td>1010</td>\n",
       "      <td>26.45</td>\n",
       "      <td>2023-03-16</td>\n",
       "      <td>2023-03</td>\n",
       "    </tr>\n",
       "  </tbody>\n",
       "</table>\n",
       "<p>5466 rows × 4 columns</p>\n",
       "</div>"
      ],
      "text/plain": [
       "      symbol  price       date       YM\n",
       "0       1010   7.75 2001-12-31  2001-12\n",
       "1       1010   7.88 2002-01-03  2002-01\n",
       "2       1010   7.88 2002-01-05  2002-01\n",
       "3       1010   7.88 2002-01-06  2002-01\n",
       "4       1010   7.75 2002-01-07  2002-01\n",
       "...      ...    ...        ...      ...\n",
       "5461    1010  28.35 2023-03-12  2023-03\n",
       "5462    1010  27.60 2023-03-13  2023-03\n",
       "5463    1010  27.05 2023-03-14  2023-03\n",
       "5464    1010  26.20 2023-03-15  2023-03\n",
       "5465    1010  26.45 2023-03-16  2023-03\n",
       "\n",
       "[5466 rows x 4 columns]"
      ]
     },
     "execution_count": 42,
     "metadata": {},
     "output_type": "execute_result"
    }
   ],
   "source": [
    "df1010"
   ]
  },
  {
   "cell_type": "code",
   "execution_count": null,
   "id": "9aaaf029-97f5-4a3b-a7a7-2b315c84d6ea",
   "metadata": {},
   "outputs": [],
   "source": []
  }
 ],
 "metadata": {
  "kernelspec": {
   "display_name": "Python 3 (ipykernel)",
   "language": "python",
   "name": "python3"
  },
  "language_info": {
   "codemirror_mode": {
    "name": "ipython",
    "version": 3
   },
   "file_extension": ".py",
   "mimetype": "text/x-python",
   "name": "python",
   "nbconvert_exporter": "python",
   "pygments_lexer": "ipython3",
   "version": "3.9.7"
  }
 },
 "nbformat": 4,
 "nbformat_minor": 5
}
