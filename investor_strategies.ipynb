{
 "cells": [
  {
   "cell_type": "code",
   "execution_count": 1,
   "id": "1ada3640-2803-4c85-a056-50c82ec5d2fb",
   "metadata": {},
   "outputs": [],
   "source": [
    "import pandas as pd \n",
    "import numpy as np \n",
    "import matplotlib.pyplot as plt \n",
    "import plotly.express as px\n",
    "import plotly.graph_objects as go\n",
    "from ipywidgets import interact\n",
    "from tqdm.notebook import tqdm"
   ]
  },
  {
   "cell_type": "code",
   "execution_count": 2,
   "id": "d85ea2ba-6748-45a0-a772-dcac1cf613b7",
   "metadata": {},
   "outputs": [],
   "source": [
    "from lucky_investor import luckyInvestor\n",
    "from unlucky_investor import unluckyInvestor\n",
    "from som_investor import somInvestor\n",
    "from random_investor import randomInvestor"
   ]
  },
  {
   "cell_type": "code",
   "execution_count": 3,
   "id": "5b851c93-64fa-47a9-837a-2fee8b09251d",
   "metadata": {},
   "outputs": [],
   "source": [
    "df = pd.read_csv('tadawul_data30.csv',parse_dates=['date'])\n",
    "df = df[df['price'] !=0]"
   ]
  },
  {
   "cell_type": "code",
   "execution_count": 4,
   "id": "405573fc-beaf-4b6a-b9bb-87b34e2004be",
   "metadata": {},
   "outputs": [],
   "source": [
    "#df['date'] = pd.to_datetime(df['transactionDateStr'])\n",
    "#df = df[['symbol','previousClosePrice','date']].rename(columns={'previousClosePrice':'price'})"
   ]
  },
  {
   "cell_type": "code",
   "execution_count": 5,
   "id": "8085997d-4c46-4a5c-9f24-050d653cc731",
   "metadata": {
    "tags": []
   },
   "outputs": [],
   "source": [
    "# @interact(symbol = df.groupby(['symbol'])['price'].count().sort_values().tail(30).index)\n",
    "\n",
    "# def chooseSymbol(symbol):\n",
    "    \n",
    "#     lucky_investor = luckyInvestor('lucky',100_0000)\n",
    "#     unlucky_investor = unluckyInvestor('unlucky',100_0000)\n",
    "#     som_investor = somInvestor('som',100_0000)\n",
    "    \n",
    "#     dfs = df[df['symbol'] == symbol]\n",
    "#     dfs = dfs.sort_values('date').reset_index(drop=True)\n",
    "#     dfs['YM'] = dfs['date'].apply(lambda v: v.strftime('%Y-%m'))\n",
    "\n",
    "#     for ym in np.sort(dfs['YM'].unique()):\n",
    "#         dfym = dfs[dfs['YM'] == ym]\n",
    "#         lucky_investor.step(dfym)\n",
    "#         unlucky_investor.step(dfym)\n",
    "#         som_investor.step(dfym)\n",
    "\n",
    "#     plt.figure(figsize=(10,8))\n",
    "\n",
    "#     plt.plot(lucky_investor.portfolio,label='lucky')\n",
    "#     plt.plot(unlucky_investor.portfolio,label='unlucky')\n",
    "#     plt.plot(som_investor.portfolio,label='som')\n",
    "#     plt.legend()\n",
    "#     plt.grid()\n",
    "#     plt.show()\n",
    "\n",
    "#     for investor in investors:\n",
    "#         print(investor)\n",
    "#         print(\"*\"*60)"
   ]
  },
  {
   "cell_type": "code",
   "execution_count": 6,
   "id": "4c5df6e7-f6fd-4d0b-ae52-ced8e2caff65",
   "metadata": {},
   "outputs": [],
   "source": [
    "symbols30 = df.groupby(['symbol'])['price'].count().sort_values().tail(30).index"
   ]
  },
  {
   "cell_type": "code",
   "execution_count": 7,
   "id": "150042fe-bdba-4d99-9eb8-1be6ac927d5c",
   "metadata": {},
   "outputs": [],
   "source": [
    "symbols = symbols30#list(symbols30[20:30])"
   ]
  },
  {
   "cell_type": "code",
   "execution_count": null,
   "id": "cb71b3af-bf85-4646-a1de-0c1bf3120bba",
   "metadata": {},
   "outputs": [
    {
     "data": {
      "application/vnd.jupyter.widget-view+json": {
       "model_id": "32875b670fa042b9a5bc9e18e5e3d783",
       "version_major": 2,
       "version_minor": 0
      },
      "text/plain": [
       "  0%|          | 0/256 [00:00<?, ?it/s]"
      ]
     },
     "metadata": {},
     "output_type": "display_data"
    }
   ],
   "source": [
    "initial_deposit = 0\n",
    "shares_to_buy = 5\n",
    "amount_to_deposit_monthly = 1_000\n",
    "\n",
    "lucky_investor = luckyInvestor('lucky',initial_deposit)\n",
    "unlucky_investor = unluckyInvestor('unlucky',initial_deposit)\n",
    "som_investor = somInvestor('som',initial_deposit)\n",
    "random_investor = randomInvestor('random',initial_deposit)\n",
    "investors = [lucky_investor,unlucky_investor,som_investor,random_investor]\n",
    "\n",
    "dfs = df[df['symbol'].apply(lambda symbol: symbol in symbols)]\n",
    "dfs = dfs.sort_values('date').reset_index(drop=True)\n",
    "dfs['YM'] = dfs['date'].apply(lambda v: v.strftime('%Y-%m'))\n",
    "yms = np.sort(dfs['YM'].unique())\n",
    "pbar = tqdm(yms)\n",
    "for ym in pbar:\n",
    "    pbar.set_description(\"Processing %s\" % ym)\n",
    "    dfym = dfs[dfs['YM'] == ym]\n",
    "    \n",
    "    for investor in investors:\n",
    "        investor.depositMoney(amount_to_deposit_monthly)\n",
    "    for symbol in symbols: \n",
    "        dfym_symbol = dfym[dfym['symbol'] == symbol]\n",
    "        for investor in investors:\n",
    "            investor.buyLogic(dfym_symbol,shares=shares_to_buy)\n",
    "    \n",
    "    symbols_and_prices = dfym.groupby(['symbol'],as_index=False)['date'].max()\n",
    "    symbols_and_prices = symbols_and_prices.merge(dfym,on=['symbol','date'])\n",
    "    stocks = {}\n",
    "    for i,(symbol,price,date) in symbols_and_prices[['symbol','price','date']].iterrows():\n",
    "        stocks[int(symbol)] = price\n",
    "        stocks['date'] = date\n",
    "        \n",
    "    for investor in investors:\n",
    "        investor.updatePortfolio(stocks)\n",
    "        investor.calculateProfit(stocks)\n",
    "\n",
    "        \n",
    "        \n",
    "fig = go.Figure()\n",
    "\n",
    "for investor in investors:\n",
    "    fig.add_trace(go.Scatter(x=yms, y=investor.portfolio,\n",
    "                             name=investor.name))\n",
    "\n",
    "fig.update_layout(hovermode='x unified')\n",
    "fig.show()   \n",
    "\n",
    "# for investor in investors:\n",
    "#     print(investor)\n",
    "#     print(\"*\"*60)"
   ]
  },
  {
   "cell_type": "code",
   "execution_count": null,
   "id": "e5cb1226-8782-43f8-8b3a-00a1e7676da0",
   "metadata": {},
   "outputs": [],
   "source": [
    "pd.set_option('display.max_rows', 500)"
   ]
  },
  {
   "cell_type": "code",
   "execution_count": null,
   "id": "e33d9dd3-f4b3-497a-93d2-db328ac919f8",
   "metadata": {},
   "outputs": [],
   "source": [
    "df[df['price']==0]"
   ]
  },
  {
   "cell_type": "code",
   "execution_count": null,
   "id": "e6add66f-b7d2-4855-9a67-3a373957aa14",
   "metadata": {},
   "outputs": [],
   "source": [
    "investor.stock_profit[investor.stock_profit['avg_cost']==0]"
   ]
  },
  {
   "cell_type": "code",
   "execution_count": null,
   "id": "91a6046a-4d6b-43af-92ad-064e34cb5a10",
   "metadata": {},
   "outputs": [],
   "source": [
    "investors_profit = pd.concat([investor.computeAnnualReturn() for investor in investors])"
   ]
  },
  {
   "cell_type": "code",
   "execution_count": null,
   "id": "90232d46-68e2-422e-a6ba-9f854cc87ffd",
   "metadata": {},
   "outputs": [],
   "source": [
    "investors_profit2 = pd.DataFrame()\n",
    "for investor in investors:\n",
    "    profit = investor.profit.copy()\n",
    "    profit.insert(0,'name',investor.name)\n",
    "    investors_profit2 = pd.concat([investors_profit2,profit])\n",
    "investors_profit2['year'] = investors_profit2['YM'].apply(lambda v: v[:4])"
   ]
  },
  {
   "cell_type": "code",
   "execution_count": null,
   "id": "79affd58-22dc-4bd3-bd77-bb520bfbe6d6",
   "metadata": {},
   "outputs": [],
   "source": [
    "fig = px.line(investors_profit2.groupby(['year','name'],as_index=False)['profit pct'].mean(),\n",
    "        x='year',y='profit pct',color='name')\n",
    "\n",
    "fig.update_layout(hovermode='x unified')"
   ]
  },
  {
   "cell_type": "code",
   "execution_count": null,
   "id": "18ecfb1e-7524-49be-9b11-bfc445f9fff0",
   "metadata": {},
   "outputs": [],
   "source": [
    "pd.crosstab(investors_profit2['year'],\n",
    "            investors_profit2['name'],\n",
    "            investors_profit2['profit pct']*100,\n",
    "            aggfunc='mean',margins=True,margins_name='mean')[[investor.name for investor in investors]]\\\n",
    "  .style.background_gradient(axis=1).format('{:.1f}')"
   ]
  },
  {
   "cell_type": "code",
   "execution_count": null,
   "id": "9c803f20-cd53-440c-98df-a1f09f74900a",
   "metadata": {},
   "outputs": [],
   "source": [
    "# investors_profit.head(500)"
   ]
  },
  {
   "cell_type": "code",
   "execution_count": null,
   "id": "a3a64a52-c7cc-4eb8-bc69-353f8b15a2de",
   "metadata": {},
   "outputs": [],
   "source": [
    "investor.transaction_history"
   ]
  },
  {
   "cell_type": "code",
   "execution_count": null,
   "id": "9b614d4c-0d52-4aee-815b-db25cf48e146",
   "metadata": {},
   "outputs": [],
   "source": [
    "investor.transaction_history.groupby(['YM'],as_index=False).agg({'total':'sum',\n",
    "                                                                 'shares':'sum',\n",
    "                                                                 'symbol':lambda v:'-'.join(map(str,v))});"
   ]
  },
  {
   "cell_type": "code",
   "execution_count": null,
   "id": "9fe0e0b4-4bf3-4286-85d0-04f26c920f3d",
   "metadata": {
    "tags": []
   },
   "outputs": [],
   "source": [
    "for investor in investors:\n",
    "    print(investor)\n",
    "    print(\"**\"*30)"
   ]
  },
  {
   "cell_type": "code",
   "execution_count": null,
   "id": "9fe892c1-29ab-4b21-84af-ee1a019e8f17",
   "metadata": {},
   "outputs": [],
   "source": [
    "fig = go.Figure()\n",
    "\n",
    "for investor in investors:\n",
    "    fig.add_trace(go.Scatter(x=investor.profit.YM, y=investor.profit['profit pct'],\n",
    "                             name=investor.name))\n",
    "\n",
    "fig.update_layout(hovermode='x unified')\n",
    "fig.show()   "
   ]
  },
  {
   "cell_type": "code",
   "execution_count": null,
   "id": "0229dc8f-4c6d-43c8-b499-8f9d3e11062e",
   "metadata": {},
   "outputs": [],
   "source": []
  }
 ],
 "metadata": {
  "kernelspec": {
   "display_name": "Python 3 (ipykernel)",
   "language": "python",
   "name": "python3"
  },
  "language_info": {
   "codemirror_mode": {
    "name": "ipython",
    "version": 3
   },
   "file_extension": ".py",
   "mimetype": "text/x-python",
   "name": "python",
   "nbconvert_exporter": "python",
   "pygments_lexer": "ipython3",
   "version": "3.9.7"
  }
 },
 "nbformat": 4,
 "nbformat_minor": 5
}
